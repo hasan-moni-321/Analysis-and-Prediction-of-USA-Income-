{
 "cells": [
  {
   "cell_type": "code",
   "execution_count": 310,
   "metadata": {},
   "outputs": [],
   "source": [
    "import numpy as np\n",
    "import pandas as pd\n",
    "import seaborn as sns\n",
    "import matplotlib.pyplot as plt\n",
    "%matplotlib inline\n",
    "\n",
    "from scipy import stats\n",
    "from sklearn.model_selection import train_test_split, cross_val_score, ShuffleSplit, GridSearchCV, validation_curve, learning_curve\n",
    "from sklearn.linear_model import LinearRegression, Lasso, Ridge\n",
    "from sklearn.ensemble import RandomForestRegressor\n",
    "\n",
    "from sklearn.neighbors import KNeighborsRegressor"
   ]
  },
  {
   "cell_type": "code",
   "execution_count": 311,
   "metadata": {},
   "outputs": [],
   "source": [
    "data = pd.read_csv('/home/hasan/Desktop/DATA_SET/us-income.csv')"
   ]
  },
  {
   "cell_type": "code",
   "execution_count": 312,
   "metadata": {},
   "outputs": [
    {
     "data": {
      "text/html": [
       "<div>\n",
       "<style scoped>\n",
       "    .dataframe tbody tr th:only-of-type {\n",
       "        vertical-align: middle;\n",
       "    }\n",
       "\n",
       "    .dataframe tbody tr th {\n",
       "        vertical-align: top;\n",
       "    }\n",
       "\n",
       "    .dataframe thead th {\n",
       "        text-align: right;\n",
       "    }\n",
       "</style>\n",
       "<table border=\"1\" class=\"dataframe\">\n",
       "  <thead>\n",
       "    <tr style=\"text-align: right;\">\n",
       "      <th></th>\n",
       "      <th>FIPS</th>\n",
       "      <th>State</th>\n",
       "      <th>County</th>\n",
       "      <th>POP_2009</th>\n",
       "      <th>Per_Cap_2009</th>\n",
       "      <th>Personal_income_2009</th>\n",
       "    </tr>\n",
       "  </thead>\n",
       "  <tbody>\n",
       "    <tr>\n",
       "      <td>0</td>\n",
       "      <td>1001</td>\n",
       "      <td>AL</td>\n",
       "      <td>Autauga</td>\n",
       "      <td>54135</td>\n",
       "      <td>32602</td>\n",
       "      <td>1764926</td>\n",
       "    </tr>\n",
       "    <tr>\n",
       "      <td>1</td>\n",
       "      <td>1003</td>\n",
       "      <td>AL</td>\n",
       "      <td>Baldwin</td>\n",
       "      <td>179406</td>\n",
       "      <td>34768</td>\n",
       "      <td>6237544</td>\n",
       "    </tr>\n",
       "    <tr>\n",
       "      <td>2</td>\n",
       "      <td>1005</td>\n",
       "      <td>AL</td>\n",
       "      <td>Barbour</td>\n",
       "      <td>27657</td>\n",
       "      <td>26461</td>\n",
       "      <td>731828</td>\n",
       "    </tr>\n",
       "    <tr>\n",
       "      <td>3</td>\n",
       "      <td>1007</td>\n",
       "      <td>AL</td>\n",
       "      <td>Bibb</td>\n",
       "      <td>22941</td>\n",
       "      <td>23803</td>\n",
       "      <td>546064</td>\n",
       "    </tr>\n",
       "    <tr>\n",
       "      <td>4</td>\n",
       "      <td>1009</td>\n",
       "      <td>AL</td>\n",
       "      <td>Blount</td>\n",
       "      <td>57341</td>\n",
       "      <td>27417</td>\n",
       "      <td>1572126</td>\n",
       "    </tr>\n",
       "  </tbody>\n",
       "</table>\n",
       "</div>"
      ],
      "text/plain": [
       "   FIPS State   County POP_2009 Per_Cap_2009 Personal_income_2009\n",
       "0  1001    AL  Autauga    54135        32602              1764926\n",
       "1  1003    AL  Baldwin   179406        34768              6237544\n",
       "2  1005    AL  Barbour    27657        26461               731828\n",
       "3  1007    AL     Bibb    22941        23803               546064\n",
       "4  1009    AL   Blount    57341        27417              1572126"
      ]
     },
     "execution_count": 312,
     "metadata": {},
     "output_type": "execute_result"
    }
   ],
   "source": [
    "data.head()"
   ]
  },
  {
   "cell_type": "code",
   "execution_count": 313,
   "metadata": {},
   "outputs": [
    {
     "data": {
      "text/plain": [
       "(3138, 6)"
      ]
     },
     "execution_count": 313,
     "metadata": {},
     "output_type": "execute_result"
    }
   ],
   "source": [
    "data.shape"
   ]
  },
  {
   "cell_type": "code",
   "execution_count": 314,
   "metadata": {},
   "outputs": [
    {
     "data": {
      "text/plain": [
       "FIPS                     int64\n",
       "State                   object\n",
       "County                  object\n",
       "POP_2009                object\n",
       "Per_Cap_2009            object\n",
       "Personal_income_2009    object\n",
       "dtype: object"
      ]
     },
     "execution_count": 314,
     "metadata": {},
     "output_type": "execute_result"
    }
   ],
   "source": [
    "data.dtypes"
   ]
  },
  {
   "cell_type": "code",
   "execution_count": 315,
   "metadata": {},
   "outputs": [
    {
     "data": {
      "text/plain": [
       "FIPS                    0\n",
       "State                   0\n",
       "County                  0\n",
       "POP_2009                0\n",
       "Per_Cap_2009            0\n",
       "Personal_income_2009    0\n",
       "dtype: int64"
      ]
     },
     "execution_count": 315,
     "metadata": {},
     "output_type": "execute_result"
    }
   ],
   "source": [
    "data.isnull().sum()"
   ]
  },
  {
   "cell_type": "code",
   "execution_count": 316,
   "metadata": {},
   "outputs": [
    {
     "data": {
      "text/plain": [
       "Int64Index([  67,   90,   93,   94,   98,  101,  102,  103,  104,  105,  106,\n",
       "             107,  108,  109,  110,  111,  112,  113,  114,  115,  116,  117,\n",
       "             118,  119, 3114],\n",
       "           dtype='int64')"
      ]
     },
     "execution_count": 316,
     "metadata": {},
     "output_type": "execute_result"
    }
   ],
   "source": [
    "ind = data[data['POP_2009']=='(NA)'].index\n",
    "ind"
   ]
  },
  {
   "cell_type": "code",
   "execution_count": 317,
   "metadata": {},
   "outputs": [],
   "source": [
    "data.drop(ind, axis=0, inplace=True)"
   ]
  },
  {
   "cell_type": "code",
   "execution_count": 318,
   "metadata": {},
   "outputs": [],
   "source": [
    "data['POP_2009'] = data['POP_2009'].astype(int)\n",
    "data['Per_Cap_2009'] = data['Per_Cap_2009'].astype(float)\n",
    "data['Personal_income_2009'] = data['Personal_income_2009'].astype(int)"
   ]
  },
  {
   "cell_type": "code",
   "execution_count": null,
   "metadata": {},
   "outputs": [],
   "source": []
  },
  {
   "cell_type": "code",
   "execution_count": 319,
   "metadata": {},
   "outputs": [
    {
     "data": {
      "text/plain": [
       "FIPS                      int64\n",
       "State                    object\n",
       "County                   object\n",
       "POP_2009                  int64\n",
       "Per_Cap_2009            float64\n",
       "Personal_income_2009      int64\n",
       "dtype: object"
      ]
     },
     "execution_count": 319,
     "metadata": {},
     "output_type": "execute_result"
    }
   ],
   "source": [
    "data.dtypes"
   ]
  },
  {
   "cell_type": "code",
   "execution_count": 320,
   "metadata": {},
   "outputs": [
    {
     "data": {
      "text/html": [
       "<div>\n",
       "<style scoped>\n",
       "    .dataframe tbody tr th:only-of-type {\n",
       "        vertical-align: middle;\n",
       "    }\n",
       "\n",
       "    .dataframe tbody tr th {\n",
       "        vertical-align: top;\n",
       "    }\n",
       "\n",
       "    .dataframe thead th {\n",
       "        text-align: right;\n",
       "    }\n",
       "</style>\n",
       "<table border=\"1\" class=\"dataframe\">\n",
       "  <thead>\n",
       "    <tr style=\"text-align: right;\">\n",
       "      <th></th>\n",
       "      <th>FIPS</th>\n",
       "      <th>State</th>\n",
       "      <th>County</th>\n",
       "      <th>POP_2009</th>\n",
       "      <th>Per_Cap_2009</th>\n",
       "      <th>Personal_income_2009</th>\n",
       "    </tr>\n",
       "  </thead>\n",
       "  <tbody>\n",
       "    <tr>\n",
       "      <td>0</td>\n",
       "      <td>1001</td>\n",
       "      <td>AL</td>\n",
       "      <td>Autauga</td>\n",
       "      <td>54135</td>\n",
       "      <td>32602.0</td>\n",
       "      <td>1764926</td>\n",
       "    </tr>\n",
       "    <tr>\n",
       "      <td>1</td>\n",
       "      <td>1003</td>\n",
       "      <td>AL</td>\n",
       "      <td>Baldwin</td>\n",
       "      <td>179406</td>\n",
       "      <td>34768.0</td>\n",
       "      <td>6237544</td>\n",
       "    </tr>\n",
       "    <tr>\n",
       "      <td>2</td>\n",
       "      <td>1005</td>\n",
       "      <td>AL</td>\n",
       "      <td>Barbour</td>\n",
       "      <td>27657</td>\n",
       "      <td>26461.0</td>\n",
       "      <td>731828</td>\n",
       "    </tr>\n",
       "    <tr>\n",
       "      <td>3</td>\n",
       "      <td>1007</td>\n",
       "      <td>AL</td>\n",
       "      <td>Bibb</td>\n",
       "      <td>22941</td>\n",
       "      <td>23803.0</td>\n",
       "      <td>546064</td>\n",
       "    </tr>\n",
       "    <tr>\n",
       "      <td>4</td>\n",
       "      <td>1009</td>\n",
       "      <td>AL</td>\n",
       "      <td>Blount</td>\n",
       "      <td>57341</td>\n",
       "      <td>27417.0</td>\n",
       "      <td>1572126</td>\n",
       "    </tr>\n",
       "  </tbody>\n",
       "</table>\n",
       "</div>"
      ],
      "text/plain": [
       "   FIPS State   County  POP_2009  Per_Cap_2009  Personal_income_2009\n",
       "0  1001    AL  Autauga     54135       32602.0               1764926\n",
       "1  1003    AL  Baldwin    179406       34768.0               6237544\n",
       "2  1005    AL  Barbour     27657       26461.0                731828\n",
       "3  1007    AL     Bibb     22941       23803.0                546064\n",
       "4  1009    AL   Blount     57341       27417.0               1572126"
      ]
     },
     "execution_count": 320,
     "metadata": {},
     "output_type": "execute_result"
    }
   ],
   "source": [
    "data.head()"
   ]
  },
  {
   "cell_type": "code",
   "execution_count": null,
   "metadata": {},
   "outputs": [],
   "source": []
  },
  {
   "cell_type": "code",
   "execution_count": null,
   "metadata": {},
   "outputs": [],
   "source": []
  },
  {
   "cell_type": "code",
   "execution_count": 321,
   "metadata": {},
   "outputs": [],
   "source": [
    "#Data Analysis"
   ]
  },
  {
   "cell_type": "code",
   "execution_count": 322,
   "metadata": {},
   "outputs": [],
   "source": [
    "#State column"
   ]
  },
  {
   "cell_type": "code",
   "execution_count": 323,
   "metadata": {},
   "outputs": [
    {
     "data": {
      "text/plain": [
       " TX                               254\n",
       " GA                               159\n",
       " KY                               120\n",
       " MO                               115\n",
       " KS                               105\n",
       "                                 ... \n",
       " Manassas + Manassas Park           1\n",
       " Colonial Heights + Petersburg      1\n",
       " SD*                                1\n",
       " Staunton + Waynesboro              1\n",
       " Buena Vista + Lexington            1\n",
       "Name: State, Length: 63, dtype: int64"
      ]
     },
     "execution_count": 323,
     "metadata": {},
     "output_type": "execute_result"
    }
   ],
   "source": [
    "#finding total number of state\n",
    "data['State'].value_counts()"
   ]
  },
  {
   "cell_type": "code",
   "execution_count": 324,
   "metadata": {},
   "outputs": [
    {
     "data": {
      "text/html": [
       "<div>\n",
       "<style scoped>\n",
       "    .dataframe tbody tr th:only-of-type {\n",
       "        vertical-align: middle;\n",
       "    }\n",
       "\n",
       "    .dataframe tbody tr th {\n",
       "        vertical-align: top;\n",
       "    }\n",
       "\n",
       "    .dataframe thead th {\n",
       "        text-align: right;\n",
       "    }\n",
       "</style>\n",
       "<table border=\"1\" class=\"dataframe\">\n",
       "  <thead>\n",
       "    <tr style=\"text-align: right;\">\n",
       "      <th></th>\n",
       "      <th>count</th>\n",
       "      <th>percent_county</th>\n",
       "    </tr>\n",
       "    <tr>\n",
       "      <th>State</th>\n",
       "      <th></th>\n",
       "      <th></th>\n",
       "    </tr>\n",
       "  </thead>\n",
       "  <tbody>\n",
       "    <tr>\n",
       "      <td>TX</td>\n",
       "      <td>254</td>\n",
       "      <td>13.857065</td>\n",
       "    </tr>\n",
       "    <tr>\n",
       "      <td>GA</td>\n",
       "      <td>159</td>\n",
       "      <td>8.674304</td>\n",
       "    </tr>\n",
       "    <tr>\n",
       "      <td>KY</td>\n",
       "      <td>120</td>\n",
       "      <td>6.546645</td>\n",
       "    </tr>\n",
       "    <tr>\n",
       "      <td>MO</td>\n",
       "      <td>115</td>\n",
       "      <td>6.273868</td>\n",
       "    </tr>\n",
       "    <tr>\n",
       "      <td>KS</td>\n",
       "      <td>105</td>\n",
       "      <td>5.728314</td>\n",
       "    </tr>\n",
       "    <tr>\n",
       "      <td>...</td>\n",
       "      <td>...</td>\n",
       "      <td>...</td>\n",
       "    </tr>\n",
       "    <tr>\n",
       "      <td>DC</td>\n",
       "      <td>1</td>\n",
       "      <td>0.054555</td>\n",
       "    </tr>\n",
       "    <tr>\n",
       "      <td>Colonial Heights + Petersburg</td>\n",
       "      <td>1</td>\n",
       "      <td>0.054555</td>\n",
       "    </tr>\n",
       "    <tr>\n",
       "      <td>Manassas + Manassas Park</td>\n",
       "      <td>1</td>\n",
       "      <td>0.054555</td>\n",
       "    </tr>\n",
       "    <tr>\n",
       "      <td>Buena Vista + Lexington</td>\n",
       "      <td>1</td>\n",
       "      <td>0.054555</td>\n",
       "    </tr>\n",
       "    <tr>\n",
       "      <td>SD*</td>\n",
       "      <td>1</td>\n",
       "      <td>0.054555</td>\n",
       "    </tr>\n",
       "  </tbody>\n",
       "</table>\n",
       "<p>63 rows × 2 columns</p>\n",
       "</div>"
      ],
      "text/plain": [
       "                                count  percent_county\n",
       "State                                                \n",
       " TX                               254       13.857065\n",
       " GA                               159        8.674304\n",
       " KY                               120        6.546645\n",
       " MO                               115        6.273868\n",
       " KS                               105        5.728314\n",
       "...                               ...             ...\n",
       " DC                                 1        0.054555\n",
       " Colonial Heights + Petersburg      1        0.054555\n",
       " Manassas + Manassas Park           1        0.054555\n",
       " Buena Vista + Lexington            1        0.054555\n",
       " SD*                                1        0.054555\n",
       "\n",
       "[63 rows x 2 columns]"
      ]
     },
     "execution_count": 324,
     "metadata": {},
     "output_type": "execute_result"
    }
   ],
   "source": [
    "#total number of country\n",
    "total_unique_county = data['County'].nunique()\n",
    "\n",
    "#total number of County in every State\n",
    "df = pd.DataFrame(data.groupby(['State']).County.agg(['count']).sort_values(by='count', ascending=False))\n",
    "\n",
    "#percent of county in every State\n",
    "df['percent_county'] = df['count']/total_unique_county*100\n",
    "df"
   ]
  },
  {
   "cell_type": "code",
   "execution_count": null,
   "metadata": {},
   "outputs": [],
   "source": []
  },
  {
   "cell_type": "code",
   "execution_count": null,
   "metadata": {},
   "outputs": [],
   "source": []
  },
  {
   "cell_type": "code",
   "execution_count": 325,
   "metadata": {},
   "outputs": [
    {
     "data": {
      "text/html": [
       "<div>\n",
       "<style scoped>\n",
       "    .dataframe tbody tr th:only-of-type {\n",
       "        vertical-align: middle;\n",
       "    }\n",
       "\n",
       "    .dataframe tbody tr th {\n",
       "        vertical-align: top;\n",
       "    }\n",
       "\n",
       "    .dataframe thead th {\n",
       "        text-align: right;\n",
       "    }\n",
       "</style>\n",
       "<table border=\"1\" class=\"dataframe\">\n",
       "  <thead>\n",
       "    <tr style=\"text-align: right;\">\n",
       "      <th></th>\n",
       "      <th>population_sum</th>\n",
       "      <th>population_percent</th>\n",
       "    </tr>\n",
       "    <tr>\n",
       "      <th>State</th>\n",
       "      <th></th>\n",
       "      <th></th>\n",
       "    </tr>\n",
       "  </thead>\n",
       "  <tbody>\n",
       "    <tr>\n",
       "      <td>AK</td>\n",
       "      <td>597836</td>\n",
       "      <td>0.194880</td>\n",
       "    </tr>\n",
       "    <tr>\n",
       "      <td>AK*</td>\n",
       "      <td>101059</td>\n",
       "      <td>0.032943</td>\n",
       "    </tr>\n",
       "    <tr>\n",
       "      <td>AL</td>\n",
       "      <td>4757938</td>\n",
       "      <td>1.550971</td>\n",
       "    </tr>\n",
       "    <tr>\n",
       "      <td>AR</td>\n",
       "      <td>2896843</td>\n",
       "      <td>0.944300</td>\n",
       "    </tr>\n",
       "    <tr>\n",
       "      <td>AZ</td>\n",
       "      <td>6128926</td>\n",
       "      <td>1.997880</td>\n",
       "    </tr>\n",
       "    <tr>\n",
       "      <td>...</td>\n",
       "      <td>...</td>\n",
       "      <td>...</td>\n",
       "    </tr>\n",
       "    <tr>\n",
       "      <td>WA</td>\n",
       "      <td>6667426</td>\n",
       "      <td>2.173417</td>\n",
       "    </tr>\n",
       "    <tr>\n",
       "      <td>WI</td>\n",
       "      <td>5623184</td>\n",
       "      <td>1.833020</td>\n",
       "    </tr>\n",
       "    <tr>\n",
       "      <td>WI*</td>\n",
       "      <td>46080</td>\n",
       "      <td>0.015021</td>\n",
       "    </tr>\n",
       "    <tr>\n",
       "      <td>WV</td>\n",
       "      <td>1847775</td>\n",
       "      <td>0.602329</td>\n",
       "    </tr>\n",
       "    <tr>\n",
       "      <td>WY</td>\n",
       "      <td>559851</td>\n",
       "      <td>0.182498</td>\n",
       "    </tr>\n",
       "  </tbody>\n",
       "</table>\n",
       "<p>63 rows × 2 columns</p>\n",
       "</div>"
      ],
      "text/plain": [
       "       population_sum  population_percent\n",
       "State                                    \n",
       " AK            597836            0.194880\n",
       " AK*           101059            0.032943\n",
       " AL           4757938            1.550971\n",
       " AR           2896843            0.944300\n",
       " AZ           6128926            1.997880\n",
       "...               ...                 ...\n",
       " WA           6667426            2.173417\n",
       " WI           5623184            1.833020\n",
       " WI*            46080            0.015021\n",
       " WV           1847775            0.602329\n",
       " WY            559851            0.182498\n",
       "\n",
       "[63 rows x 2 columns]"
      ]
     },
     "execution_count": 325,
     "metadata": {},
     "output_type": "execute_result"
    }
   ],
   "source": [
    "#total population\n",
    "total_population = data['POP_2009'].sum()\n",
    "\n",
    "#total population in every state \n",
    "df = pd.DataFrame(data.groupby(['State']).POP_2009.agg(['sum']))\n",
    "\n",
    "#percent of population in every state\n",
    "percent_population = df['sum']/total_population*100\n",
    "df['percent'] = percent_population\n",
    "\n",
    "#changing columns name\n",
    "df.columns = ['population_sum','population_percent']\n",
    "df"
   ]
  },
  {
   "cell_type": "code",
   "execution_count": null,
   "metadata": {},
   "outputs": [],
   "source": []
  },
  {
   "cell_type": "code",
   "execution_count": null,
   "metadata": {},
   "outputs": [],
   "source": []
  },
  {
   "cell_type": "code",
   "execution_count": 326,
   "metadata": {},
   "outputs": [
    {
     "data": {
      "text/html": [
       "<div>\n",
       "<style scoped>\n",
       "    .dataframe tbody tr th:only-of-type {\n",
       "        vertical-align: middle;\n",
       "    }\n",
       "\n",
       "    .dataframe tbody tr th {\n",
       "        vertical-align: top;\n",
       "    }\n",
       "\n",
       "    .dataframe thead th {\n",
       "        text-align: right;\n",
       "    }\n",
       "</style>\n",
       "<table border=\"1\" class=\"dataframe\">\n",
       "  <thead>\n",
       "    <tr style=\"text-align: right;\">\n",
       "      <th></th>\n",
       "      <th>State</th>\n",
       "      <th>Per_Cap_2009</th>\n",
       "    </tr>\n",
       "  </thead>\n",
       "  <tbody>\n",
       "    <tr>\n",
       "      <td>3134</td>\n",
       "      <td>WY</td>\n",
       "      <td>129161.0</td>\n",
       "    </tr>\n",
       "    <tr>\n",
       "      <td>1881</td>\n",
       "      <td>NY</td>\n",
       "      <td>110226.0</td>\n",
       "    </tr>\n",
       "    <tr>\n",
       "      <td>332</td>\n",
       "      <td>CT</td>\n",
       "      <td>100243.0</td>\n",
       "    </tr>\n",
       "    <tr>\n",
       "      <td>317</td>\n",
       "      <td>CO</td>\n",
       "      <td>92329.0</td>\n",
       "    </tr>\n",
       "    <tr>\n",
       "      <td>230</td>\n",
       "      <td>CA</td>\n",
       "      <td>82955.0</td>\n",
       "    </tr>\n",
       "    <tr>\n",
       "      <td>2447</td>\n",
       "      <td>SD</td>\n",
       "      <td>75755.0</td>\n",
       "    </tr>\n",
       "    <tr>\n",
       "      <td>1910</td>\n",
       "      <td>NY</td>\n",
       "      <td>75491.0</td>\n",
       "    </tr>\n",
       "    <tr>\n",
       "      <td>2847</td>\n",
       "      <td>VA</td>\n",
       "      <td>74912.0</td>\n",
       "    </tr>\n",
       "    <tr>\n",
       "      <td>1249</td>\n",
       "      <td>MA</td>\n",
       "      <td>74782.0</td>\n",
       "    </tr>\n",
       "    <tr>\n",
       "      <td>247</td>\n",
       "      <td>CA</td>\n",
       "      <td>73167.0</td>\n",
       "    </tr>\n",
       "  </tbody>\n",
       "</table>\n",
       "</div>"
      ],
      "text/plain": [
       "     State  Per_Cap_2009\n",
       "3134    WY      129161.0\n",
       "1881    NY      110226.0\n",
       "332     CT      100243.0\n",
       "317     CO       92329.0\n",
       "230     CA       82955.0\n",
       "2447    SD       75755.0\n",
       "1910    NY       75491.0\n",
       "2847    VA       74912.0\n",
       "1249    MA       74782.0\n",
       "247     CA       73167.0"
      ]
     },
     "execution_count": 326,
     "metadata": {},
     "output_type": "execute_result"
    }
   ],
   "source": [
    "#first 10 most per capital income in State\n",
    "df = pd.DataFrame(data.loc[:,['State','Per_Cap_2009']])\n",
    "df = df.sort_values(by='Per_Cap_2009', ascending=False).head(10)\n",
    "df"
   ]
  },
  {
   "cell_type": "code",
   "execution_count": 327,
   "metadata": {},
   "outputs": [
    {
     "data": {
      "text/plain": [
       "<matplotlib.axes._subplots.AxesSubplot at 0x7f8cbf311b10>"
      ]
     },
     "execution_count": 327,
     "metadata": {},
     "output_type": "execute_result"
    },
    {
     "data": {
      "image/png": "[encoded data removed]",
      "text/plain": [
       "<Figure size 432x288 with 1 Axes>"
      ]
     },
     "metadata": {
      "needs_background": "light"
     },
     "output_type": "display_data"
    }
   ],
   "source": [
    "sns.barplot(x=df['State'], y=df['Per_Cap_2009'])"
   ]
  },
  {
   "cell_type": "code",
   "execution_count": null,
   "metadata": {},
   "outputs": [],
   "source": []
  },
  {
   "cell_type": "code",
   "execution_count": null,
   "metadata": {},
   "outputs": [],
   "source": []
  },
  {
   "cell_type": "code",
   "execution_count": 328,
   "metadata": {},
   "outputs": [
    {
     "data": {
      "text/html": [
       "<div>\n",
       "<style scoped>\n",
       "    .dataframe tbody tr th:only-of-type {\n",
       "        vertical-align: middle;\n",
       "    }\n",
       "\n",
       "    .dataframe tbody tr th {\n",
       "        vertical-align: top;\n",
       "    }\n",
       "\n",
       "    .dataframe thead th {\n",
       "        text-align: right;\n",
       "    }\n",
       "</style>\n",
       "<table border=\"1\" class=\"dataframe\">\n",
       "  <thead>\n",
       "    <tr style=\"text-align: right;\">\n",
       "      <th></th>\n",
       "      <th>sum</th>\n",
       "      <th>percent</th>\n",
       "    </tr>\n",
       "    <tr>\n",
       "      <th>State</th>\n",
       "      <th></th>\n",
       "      <th></th>\n",
       "    </tr>\n",
       "  </thead>\n",
       "  <tbody>\n",
       "    <tr>\n",
       "      <td>AK</td>\n",
       "      <td>28754079</td>\n",
       "      <td>0.238041</td>\n",
       "    </tr>\n",
       "    <tr>\n",
       "      <td>AK*</td>\n",
       "      <td>3977704</td>\n",
       "      <td>0.032930</td>\n",
       "    </tr>\n",
       "    <tr>\n",
       "      <td>AL</td>\n",
       "      <td>155513766</td>\n",
       "      <td>1.287425</td>\n",
       "    </tr>\n",
       "    <tr>\n",
       "      <td>AR</td>\n",
       "      <td>90880167</td>\n",
       "      <td>0.752354</td>\n",
       "    </tr>\n",
       "    <tr>\n",
       "      <td>AZ</td>\n",
       "      <td>208359003</td>\n",
       "      <td>1.724906</td>\n",
       "    </tr>\n",
       "    <tr>\n",
       "      <td>...</td>\n",
       "      <td>...</td>\n",
       "      <td>...</td>\n",
       "    </tr>\n",
       "    <tr>\n",
       "      <td>WA</td>\n",
       "      <td>278991093</td>\n",
       "      <td>2.309635</td>\n",
       "    </tr>\n",
       "    <tr>\n",
       "      <td>WI</td>\n",
       "      <td>214122616</td>\n",
       "      <td>1.772620</td>\n",
       "    </tr>\n",
       "    <tr>\n",
       "      <td>WI*</td>\n",
       "      <td>1376281</td>\n",
       "      <td>0.011394</td>\n",
       "    </tr>\n",
       "    <tr>\n",
       "      <td>WV</td>\n",
       "      <td>58042232</td>\n",
       "      <td>0.480504</td>\n",
       "    </tr>\n",
       "    <tr>\n",
       "      <td>WY</td>\n",
       "      <td>24381004</td>\n",
       "      <td>0.201839</td>\n",
       "    </tr>\n",
       "  </tbody>\n",
       "</table>\n",
       "<p>63 rows × 2 columns</p>\n",
       "</div>"
      ],
      "text/plain": [
       "             sum   percent\n",
       "State                     \n",
       " AK     28754079  0.238041\n",
       " AK*     3977704  0.032930\n",
       " AL    155513766  1.287425\n",
       " AR     90880167  0.752354\n",
       " AZ    208359003  1.724906\n",
       "...          ...       ...\n",
       " WA    278991093  2.309635\n",
       " WI    214122616  1.772620\n",
       " WI*     1376281  0.011394\n",
       " WV     58042232  0.480504\n",
       " WY     24381004  0.201839\n",
       "\n",
       "[63 rows x 2 columns]"
      ]
     },
     "execution_count": 328,
     "metadata": {},
     "output_type": "execute_result"
    }
   ],
   "source": [
    "#total sum of Personal_income_2009\n",
    "total_personal_income = data['Personal_income_2009'].sum()\n",
    "\n",
    "#total sum and percent of personal income in every State\n",
    "df = pd.DataFrame(data.groupby(['State']).Personal_income_2009.agg(['sum']))\n",
    "df['percent'] = df['sum']/total_personal_income*100\n",
    "df"
   ]
  },
  {
   "cell_type": "code",
   "execution_count": null,
   "metadata": {},
   "outputs": [],
   "source": []
  },
  {
   "cell_type": "code",
   "execution_count": null,
   "metadata": {},
   "outputs": [],
   "source": []
  },
  {
   "cell_type": "code",
   "execution_count": 329,
   "metadata": {},
   "outputs": [],
   "source": [
    "#County column"
   ]
  },
  {
   "cell_type": "code",
   "execution_count": 330,
   "metadata": {},
   "outputs": [],
   "source": [
    "#sum of population and percent in every County"
   ]
  },
  {
   "cell_type": "code",
   "execution_count": 331,
   "metadata": {},
   "outputs": [
    {
     "data": {
      "text/html": [
       "<div>\n",
       "<style scoped>\n",
       "    .dataframe tbody tr th:only-of-type {\n",
       "        vertical-align: middle;\n",
       "    }\n",
       "\n",
       "    .dataframe tbody tr th {\n",
       "        vertical-align: top;\n",
       "    }\n",
       "\n",
       "    .dataframe thead th {\n",
       "        text-align: right;\n",
       "    }\n",
       "</style>\n",
       "<table border=\"1\" class=\"dataframe\">\n",
       "  <thead>\n",
       "    <tr style=\"text-align: right;\">\n",
       "      <th></th>\n",
       "      <th>sum of population</th>\n",
       "      <th>percent</th>\n",
       "    </tr>\n",
       "    <tr>\n",
       "      <th>County</th>\n",
       "      <th></th>\n",
       "      <th></th>\n",
       "    </tr>\n",
       "  </thead>\n",
       "  <tbody>\n",
       "    <tr>\n",
       "      <td>Los Angeles</td>\n",
       "      <td>9787400</td>\n",
       "      <td>3.190453</td>\n",
       "    </tr>\n",
       "    <tr>\n",
       "      <td>Cook</td>\n",
       "      <td>5204045</td>\n",
       "      <td>1.696391</td>\n",
       "    </tr>\n",
       "    <tr>\n",
       "      <td>Orange</td>\n",
       "      <td>4786787</td>\n",
       "      <td>1.560375</td>\n",
       "    </tr>\n",
       "    <tr>\n",
       "      <td>Harris</td>\n",
       "      <td>4066360</td>\n",
       "      <td>1.325534</td>\n",
       "    </tr>\n",
       "    <tr>\n",
       "      <td>Maricopa</td>\n",
       "      <td>3803779</td>\n",
       "      <td>1.239939</td>\n",
       "    </tr>\n",
       "    <tr>\n",
       "      <td>...</td>\n",
       "      <td>...</td>\n",
       "      <td>...</td>\n",
       "    </tr>\n",
       "    <tr>\n",
       "      <td>Borden</td>\n",
       "      <td>618</td>\n",
       "      <td>0.000201</td>\n",
       "    </tr>\n",
       "    <tr>\n",
       "      <td>Petroleum</td>\n",
       "      <td>488</td>\n",
       "      <td>0.000159</td>\n",
       "    </tr>\n",
       "    <tr>\n",
       "      <td>Arthur</td>\n",
       "      <td>442</td>\n",
       "      <td>0.000144</td>\n",
       "    </tr>\n",
       "    <tr>\n",
       "      <td>Kenedy</td>\n",
       "      <td>403</td>\n",
       "      <td>0.000131</td>\n",
       "    </tr>\n",
       "    <tr>\n",
       "      <td>Loving</td>\n",
       "      <td>77</td>\n",
       "      <td>0.000025</td>\n",
       "    </tr>\n",
       "  </tbody>\n",
       "</table>\n",
       "<p>1833 rows × 2 columns</p>\n",
       "</div>"
      ],
      "text/plain": [
       "             sum of population   percent\n",
       "County                                  \n",
       "Los Angeles            9787400  3.190453\n",
       "Cook                   5204045  1.696391\n",
       "Orange                 4786787  1.560375\n",
       "Harris                 4066360  1.325534\n",
       "Maricopa               3803779  1.239939\n",
       "...                        ...       ...\n",
       "Borden                     618  0.000201\n",
       "Petroleum                  488  0.000159\n",
       "Arthur                     442  0.000144\n",
       "Kenedy                     403  0.000131\n",
       "Loving                      77  0.000025\n",
       "\n",
       "[1833 rows x 2 columns]"
      ]
     },
     "execution_count": 331,
     "metadata": {},
     "output_type": "execute_result"
    }
   ],
   "source": [
    "#total population \n",
    "total_population = data['POP_2009'].sum()\n",
    "\n",
    "#sum and percent of population in every county\n",
    "df = pd.DataFrame(data.groupby(['County']).POP_2009.agg(['sum']).sort_values(by='sum', ascending=False))\n",
    "\n",
    "#percent of population\n",
    "percent = df['sum']/total_population*100\n",
    "\n",
    "df['percent'] = percent\n",
    "df.rename(columns={'sum':'sum of population'})"
   ]
  },
  {
   "cell_type": "code",
   "execution_count": null,
   "metadata": {},
   "outputs": [],
   "source": []
  },
  {
   "cell_type": "code",
   "execution_count": null,
   "metadata": {},
   "outputs": [],
   "source": []
  },
  {
   "cell_type": "code",
   "execution_count": 332,
   "metadata": {},
   "outputs": [],
   "source": [
    "#10 most percapital income County"
   ]
  },
  {
   "cell_type": "code",
   "execution_count": 333,
   "metadata": {},
   "outputs": [
    {
     "data": {
      "text/html": [
       "<div>\n",
       "<style scoped>\n",
       "    .dataframe tbody tr th:only-of-type {\n",
       "        vertical-align: middle;\n",
       "    }\n",
       "\n",
       "    .dataframe tbody tr th {\n",
       "        vertical-align: top;\n",
       "    }\n",
       "\n",
       "    .dataframe thead th {\n",
       "        text-align: right;\n",
       "    }\n",
       "</style>\n",
       "<table border=\"1\" class=\"dataframe\">\n",
       "  <thead>\n",
       "    <tr style=\"text-align: right;\">\n",
       "      <th></th>\n",
       "      <th>County</th>\n",
       "      <th>Per_Cap_2009</th>\n",
       "    </tr>\n",
       "  </thead>\n",
       "  <tbody>\n",
       "    <tr>\n",
       "      <td>3134</td>\n",
       "      <td>Teton</td>\n",
       "      <td>129161.0</td>\n",
       "    </tr>\n",
       "    <tr>\n",
       "      <td>1881</td>\n",
       "      <td>New York</td>\n",
       "      <td>110226.0</td>\n",
       "    </tr>\n",
       "    <tr>\n",
       "      <td>332</td>\n",
       "      <td>Fairfield</td>\n",
       "      <td>100243.0</td>\n",
       "    </tr>\n",
       "    <tr>\n",
       "      <td>317</td>\n",
       "      <td>Pitkin</td>\n",
       "      <td>92329.0</td>\n",
       "    </tr>\n",
       "    <tr>\n",
       "      <td>230</td>\n",
       "      <td>Marin</td>\n",
       "      <td>82955.0</td>\n",
       "    </tr>\n",
       "    <tr>\n",
       "      <td>2447</td>\n",
       "      <td>Union</td>\n",
       "      <td>75755.0</td>\n",
       "    </tr>\n",
       "    <tr>\n",
       "      <td>1910</td>\n",
       "      <td>Westchester</td>\n",
       "      <td>75491.0</td>\n",
       "    </tr>\n",
       "    <tr>\n",
       "      <td>2847</td>\n",
       "      <td>Arlington</td>\n",
       "      <td>74912.0</td>\n",
       "    </tr>\n",
       "    <tr>\n",
       "      <td>1249</td>\n",
       "      <td>Nantucket</td>\n",
       "      <td>74782.0</td>\n",
       "    </tr>\n",
       "    <tr>\n",
       "      <td>247</td>\n",
       "      <td>San Francisco</td>\n",
       "      <td>73167.0</td>\n",
       "    </tr>\n",
       "  </tbody>\n",
       "</table>\n",
       "</div>"
      ],
      "text/plain": [
       "             County  Per_Cap_2009\n",
       "3134          Teton      129161.0\n",
       "1881       New York      110226.0\n",
       "332       Fairfield      100243.0\n",
       "317          Pitkin       92329.0\n",
       "230           Marin       82955.0\n",
       "2447          Union       75755.0\n",
       "1910    Westchester       75491.0\n",
       "2847      Arlington       74912.0\n",
       "1249      Nantucket       74782.0\n",
       "247   San Francisco       73167.0"
      ]
     },
     "execution_count": 333,
     "metadata": {},
     "output_type": "execute_result"
    }
   ],
   "source": [
    "df = data.loc[:,['County','Per_Cap_2009']].sort_values(by='Per_Cap_2009', ascending=False)\n",
    "df = df.head(10)\n",
    "df"
   ]
  },
  {
   "cell_type": "code",
   "execution_count": 334,
   "metadata": {},
   "outputs": [
    {
     "data": {
      "text/plain": [
       "<matplotlib.axes._subplots.AxesSubplot at 0x7f8cbede6e90>"
      ]
     },
     "execution_count": 334,
     "metadata": {},
     "output_type": "execute_result"
    },
    {
     "data": {
      "image/png": "[encoded data removed]",
      "text/plain": [
       "<Figure size 864x432 with 1 Axes>"
      ]
     },
     "metadata": {
      "needs_background": "light"
     },
     "output_type": "display_data"
    }
   ],
   "source": [
    "plt.figure(figsize=(12,6))\n",
    "sns.barplot(x=df['County'], y=df['Per_Cap_2009'])"
   ]
  },
  {
   "cell_type": "code",
   "execution_count": null,
   "metadata": {},
   "outputs": [],
   "source": []
  },
  {
   "cell_type": "code",
   "execution_count": null,
   "metadata": {},
   "outputs": [],
   "source": []
  },
  {
   "cell_type": "code",
   "execution_count": 335,
   "metadata": {},
   "outputs": [],
   "source": [
    "#sum and percent of personal income in every County"
   ]
  },
  {
   "cell_type": "code",
   "execution_count": 336,
   "metadata": {},
   "outputs": [
    {
     "data": {
      "text/html": [
       "<div>\n",
       "<style scoped>\n",
       "    .dataframe tbody tr th:only-of-type {\n",
       "        vertical-align: middle;\n",
       "    }\n",
       "\n",
       "    .dataframe tbody tr th {\n",
       "        vertical-align: top;\n",
       "    }\n",
       "\n",
       "    .dataframe thead th {\n",
       "        text-align: right;\n",
       "    }\n",
       "</style>\n",
       "<table border=\"1\" class=\"dataframe\">\n",
       "  <thead>\n",
       "    <tr style=\"text-align: right;\">\n",
       "      <th></th>\n",
       "      <th>sum</th>\n",
       "      <th>percent</th>\n",
       "    </tr>\n",
       "    <tr>\n",
       "      <th>County</th>\n",
       "      <th></th>\n",
       "      <th></th>\n",
       "    </tr>\n",
       "  </thead>\n",
       "  <tbody>\n",
       "    <tr>\n",
       "      <td>Los Angeles</td>\n",
       "      <td>411495352</td>\n",
       "      <td>3.406575</td>\n",
       "    </tr>\n",
       "    <tr>\n",
       "      <td>Cook</td>\n",
       "      <td>224936449</td>\n",
       "      <td>1.862142</td>\n",
       "    </tr>\n",
       "    <tr>\n",
       "      <td>Orange</td>\n",
       "      <td>204144515</td>\n",
       "      <td>1.690016</td>\n",
       "    </tr>\n",
       "    <tr>\n",
       "      <td>Harris</td>\n",
       "      <td>179034954</td>\n",
       "      <td>1.482146</td>\n",
       "    </tr>\n",
       "    <tr>\n",
       "      <td>New York</td>\n",
       "      <td>174534716</td>\n",
       "      <td>1.444890</td>\n",
       "    </tr>\n",
       "    <tr>\n",
       "      <td>...</td>\n",
       "      <td>...</td>\n",
       "      <td>...</td>\n",
       "    </tr>\n",
       "    <tr>\n",
       "      <td>Petroleum</td>\n",
       "      <td>15838</td>\n",
       "      <td>0.000131</td>\n",
       "    </tr>\n",
       "    <tr>\n",
       "      <td>Loup</td>\n",
       "      <td>15696</td>\n",
       "      <td>0.000130</td>\n",
       "    </tr>\n",
       "    <tr>\n",
       "      <td>Arthur</td>\n",
       "      <td>12129</td>\n",
       "      <td>0.000100</td>\n",
       "    </tr>\n",
       "    <tr>\n",
       "      <td>Kenedy</td>\n",
       "      <td>10731</td>\n",
       "      <td>0.000089</td>\n",
       "    </tr>\n",
       "    <tr>\n",
       "      <td>Loving</td>\n",
       "      <td>2172</td>\n",
       "      <td>0.000018</td>\n",
       "    </tr>\n",
       "  </tbody>\n",
       "</table>\n",
       "<p>1833 rows × 2 columns</p>\n",
       "</div>"
      ],
      "text/plain": [
       "                   sum   percent\n",
       "County                          \n",
       "Los Angeles  411495352  3.406575\n",
       "Cook         224936449  1.862142\n",
       "Orange       204144515  1.690016\n",
       "Harris       179034954  1.482146\n",
       "New York     174534716  1.444890\n",
       "...                ...       ...\n",
       "Petroleum        15838  0.000131\n",
       "Loup             15696  0.000130\n",
       "Arthur           12129  0.000100\n",
       "Kenedy           10731  0.000089\n",
       "Loving            2172  0.000018\n",
       "\n",
       "[1833 rows x 2 columns]"
      ]
     },
     "execution_count": 336,
     "metadata": {},
     "output_type": "execute_result"
    }
   ],
   "source": [
    "#sum of personal income\n",
    "total_personal_income = data['Personal_income_2009'].sum()\n",
    "\n",
    "#sum of personal income in every County\n",
    "df = pd.DataFrame(data.groupby(['County']).Personal_income_2009.agg(['sum']).sort_values(by='sum', ascending=False))\n",
    "\n",
    "#percent of personal income in every County\n",
    "percent = df['sum']/total_personal_income*100\n",
    "\n",
    "df['percent'] = percent\n",
    "df\n",
    "\n"
   ]
  },
  {
   "cell_type": "code",
   "execution_count": null,
   "metadata": {},
   "outputs": [],
   "source": []
  },
  {
   "cell_type": "code",
   "execution_count": 337,
   "metadata": {},
   "outputs": [],
   "source": [
    "#most density of the population's sum and percent based on State and County"
   ]
  },
  {
   "cell_type": "code",
   "execution_count": 338,
   "metadata": {},
   "outputs": [
    {
     "data": {
      "text/html": [
       "<div>\n",
       "<style scoped>\n",
       "    .dataframe tbody tr th:only-of-type {\n",
       "        vertical-align: middle;\n",
       "    }\n",
       "\n",
       "    .dataframe tbody tr th {\n",
       "        vertical-align: top;\n",
       "    }\n",
       "\n",
       "    .dataframe thead th {\n",
       "        text-align: right;\n",
       "    }\n",
       "</style>\n",
       "<table border=\"1\" class=\"dataframe\">\n",
       "  <thead>\n",
       "    <tr style=\"text-align: right;\">\n",
       "      <th></th>\n",
       "      <th></th>\n",
       "      <th>sum</th>\n",
       "      <th>percent</th>\n",
       "    </tr>\n",
       "    <tr>\n",
       "      <th>State</th>\n",
       "      <th>County</th>\n",
       "      <th></th>\n",
       "      <th></th>\n",
       "    </tr>\n",
       "  </thead>\n",
       "  <tbody>\n",
       "    <tr>\n",
       "      <td>CA</td>\n",
       "      <td>Los Angeles</td>\n",
       "      <td>9787400</td>\n",
       "      <td>3.190453</td>\n",
       "    </tr>\n",
       "    <tr>\n",
       "      <td>IL</td>\n",
       "      <td>Cook</td>\n",
       "      <td>5181728</td>\n",
       "      <td>1.689116</td>\n",
       "    </tr>\n",
       "    <tr>\n",
       "      <td>TX</td>\n",
       "      <td>Harris</td>\n",
       "      <td>4034866</td>\n",
       "      <td>1.315267</td>\n",
       "    </tr>\n",
       "    <tr>\n",
       "      <td>AZ</td>\n",
       "      <td>Maricopa</td>\n",
       "      <td>3803779</td>\n",
       "      <td>1.239939</td>\n",
       "    </tr>\n",
       "    <tr>\n",
       "      <td rowspan=\"2\" valign=\"top\">CA</td>\n",
       "      <td>San Diego</td>\n",
       "      <td>3061203</td>\n",
       "      <td>0.997877</td>\n",
       "    </tr>\n",
       "    <tr>\n",
       "      <td>Orange</td>\n",
       "      <td>2987177</td>\n",
       "      <td>0.973746</td>\n",
       "    </tr>\n",
       "    <tr>\n",
       "      <td>NY</td>\n",
       "      <td>Kings</td>\n",
       "      <td>2487751</td>\n",
       "      <td>0.810946</td>\n",
       "    </tr>\n",
       "    <tr>\n",
       "      <td>FL</td>\n",
       "      <td>Miami-Dade</td>\n",
       "      <td>2463943</td>\n",
       "      <td>0.803185</td>\n",
       "    </tr>\n",
       "    <tr>\n",
       "      <td>TX</td>\n",
       "      <td>Dallas</td>\n",
       "      <td>2346378</td>\n",
       "      <td>0.764862</td>\n",
       "    </tr>\n",
       "    <tr>\n",
       "      <td>NY</td>\n",
       "      <td>Queens</td>\n",
       "      <td>2217166</td>\n",
       "      <td>0.722742</td>\n",
       "    </tr>\n",
       "  </tbody>\n",
       "</table>\n",
       "</div>"
      ],
      "text/plain": [
       "                       sum   percent\n",
       "State County                        \n",
       " CA   Los Angeles  9787400  3.190453\n",
       " IL   Cook         5181728  1.689116\n",
       " TX   Harris       4034866  1.315267\n",
       " AZ   Maricopa     3803779  1.239939\n",
       " CA   San Diego    3061203  0.997877\n",
       "      Orange       2987177  0.973746\n",
       " NY   Kings        2487751  0.810946\n",
       " FL   Miami-Dade   2463943  0.803185\n",
       " TX   Dallas       2346378  0.764862\n",
       " NY   Queens       2217166  0.722742"
      ]
     },
     "execution_count": 338,
     "metadata": {},
     "output_type": "execute_result"
    }
   ],
   "source": [
    "#total population\n",
    "total_population = data['POP_2009'].sum()\n",
    "\n",
    "df = pd.DataFrame(data.groupby(['State','County']).POP_2009.agg(['sum']).sort_values(by='sum', ascending=False))\n",
    "\n",
    "percent = df['sum']/total_population*100\n",
    "df['percent'] = percent\n",
    "df.head(10)"
   ]
  },
  {
   "cell_type": "code",
   "execution_count": null,
   "metadata": {},
   "outputs": [],
   "source": []
  },
  {
   "cell_type": "code",
   "execution_count": null,
   "metadata": {},
   "outputs": [],
   "source": []
  },
  {
   "cell_type": "code",
   "execution_count": 339,
   "metadata": {},
   "outputs": [],
   "source": [
    "#most 10 per capital income based on State and County"
   ]
  },
  {
   "cell_type": "code",
   "execution_count": 340,
   "metadata": {},
   "outputs": [
    {
     "data": {
      "text/html": [
       "<div>\n",
       "<style scoped>\n",
       "    .dataframe tbody tr th:only-of-type {\n",
       "        vertical-align: middle;\n",
       "    }\n",
       "\n",
       "    .dataframe tbody tr th {\n",
       "        vertical-align: top;\n",
       "    }\n",
       "\n",
       "    .dataframe thead th {\n",
       "        text-align: right;\n",
       "    }\n",
       "</style>\n",
       "<table border=\"1\" class=\"dataframe\">\n",
       "  <thead>\n",
       "    <tr style=\"text-align: right;\">\n",
       "      <th></th>\n",
       "      <th>State</th>\n",
       "      <th>County</th>\n",
       "      <th>Per_Cap_2009</th>\n",
       "    </tr>\n",
       "  </thead>\n",
       "  <tbody>\n",
       "    <tr>\n",
       "      <td>3134</td>\n",
       "      <td>WY</td>\n",
       "      <td>Teton</td>\n",
       "      <td>129161.0</td>\n",
       "    </tr>\n",
       "    <tr>\n",
       "      <td>1881</td>\n",
       "      <td>NY</td>\n",
       "      <td>New York</td>\n",
       "      <td>110226.0</td>\n",
       "    </tr>\n",
       "    <tr>\n",
       "      <td>332</td>\n",
       "      <td>CT</td>\n",
       "      <td>Fairfield</td>\n",
       "      <td>100243.0</td>\n",
       "    </tr>\n",
       "    <tr>\n",
       "      <td>317</td>\n",
       "      <td>CO</td>\n",
       "      <td>Pitkin</td>\n",
       "      <td>92329.0</td>\n",
       "    </tr>\n",
       "    <tr>\n",
       "      <td>230</td>\n",
       "      <td>CA</td>\n",
       "      <td>Marin</td>\n",
       "      <td>82955.0</td>\n",
       "    </tr>\n",
       "    <tr>\n",
       "      <td>2447</td>\n",
       "      <td>SD</td>\n",
       "      <td>Union</td>\n",
       "      <td>75755.0</td>\n",
       "    </tr>\n",
       "    <tr>\n",
       "      <td>1910</td>\n",
       "      <td>NY</td>\n",
       "      <td>Westchester</td>\n",
       "      <td>75491.0</td>\n",
       "    </tr>\n",
       "    <tr>\n",
       "      <td>2847</td>\n",
       "      <td>VA</td>\n",
       "      <td>Arlington</td>\n",
       "      <td>74912.0</td>\n",
       "    </tr>\n",
       "    <tr>\n",
       "      <td>1249</td>\n",
       "      <td>MA</td>\n",
       "      <td>Nantucket</td>\n",
       "      <td>74782.0</td>\n",
       "    </tr>\n",
       "    <tr>\n",
       "      <td>247</td>\n",
       "      <td>CA</td>\n",
       "      <td>San Francisco</td>\n",
       "      <td>73167.0</td>\n",
       "    </tr>\n",
       "  </tbody>\n",
       "</table>\n",
       "</div>"
      ],
      "text/plain": [
       "     State         County  Per_Cap_2009\n",
       "3134    WY          Teton      129161.0\n",
       "1881    NY       New York      110226.0\n",
       "332     CT      Fairfield      100243.0\n",
       "317     CO         Pitkin       92329.0\n",
       "230     CA          Marin       82955.0\n",
       "2447    SD          Union       75755.0\n",
       "1910    NY    Westchester       75491.0\n",
       "2847    VA      Arlington       74912.0\n",
       "1249    MA      Nantucket       74782.0\n",
       "247     CA  San Francisco       73167.0"
      ]
     },
     "execution_count": 340,
     "metadata": {},
     "output_type": "execute_result"
    }
   ],
   "source": [
    "df = data.loc[:,['State','County','Per_Cap_2009']].sort_values(by='Per_Cap_2009', ascending=False)\n",
    "df.head(10)"
   ]
  },
  {
   "cell_type": "code",
   "execution_count": null,
   "metadata": {},
   "outputs": [],
   "source": []
  },
  {
   "cell_type": "code",
   "execution_count": 341,
   "metadata": {},
   "outputs": [],
   "source": [
    "#10 most personal income State and County"
   ]
  },
  {
   "cell_type": "code",
   "execution_count": 342,
   "metadata": {},
   "outputs": [
    {
     "data": {
      "text/html": [
       "<div>\n",
       "<style scoped>\n",
       "    .dataframe tbody tr th:only-of-type {\n",
       "        vertical-align: middle;\n",
       "    }\n",
       "\n",
       "    .dataframe tbody tr th {\n",
       "        vertical-align: top;\n",
       "    }\n",
       "\n",
       "    .dataframe thead th {\n",
       "        text-align: right;\n",
       "    }\n",
       "</style>\n",
       "<table border=\"1\" class=\"dataframe\">\n",
       "  <thead>\n",
       "    <tr style=\"text-align: right;\">\n",
       "      <th></th>\n",
       "      <th></th>\n",
       "      <th>sum</th>\n",
       "      <th>percent</th>\n",
       "    </tr>\n",
       "    <tr>\n",
       "      <th>State</th>\n",
       "      <th>County</th>\n",
       "      <th></th>\n",
       "      <th></th>\n",
       "    </tr>\n",
       "  </thead>\n",
       "  <tbody>\n",
       "    <tr>\n",
       "      <td>CA</td>\n",
       "      <td>Los Angeles</td>\n",
       "      <td>411495352</td>\n",
       "      <td>3.406575</td>\n",
       "    </tr>\n",
       "    <tr>\n",
       "      <td>IL</td>\n",
       "      <td>Cook</td>\n",
       "      <td>224311065</td>\n",
       "      <td>1.856965</td>\n",
       "    </tr>\n",
       "    <tr>\n",
       "      <td>TX</td>\n",
       "      <td>Harris</td>\n",
       "      <td>177898662</td>\n",
       "      <td>1.472739</td>\n",
       "    </tr>\n",
       "    <tr>\n",
       "      <td>NY</td>\n",
       "      <td>New York</td>\n",
       "      <td>174534716</td>\n",
       "      <td>1.444890</td>\n",
       "    </tr>\n",
       "    <tr>\n",
       "      <td>CA</td>\n",
       "      <td>Orange</td>\n",
       "      <td>140937698</td>\n",
       "      <td>1.166756</td>\n",
       "    </tr>\n",
       "    <tr>\n",
       "      <td>...</td>\n",
       "      <td>...</td>\n",
       "      <td>...</td>\n",
       "      <td>...</td>\n",
       "    </tr>\n",
       "    <tr>\n",
       "      <td>TX</td>\n",
       "      <td>King</td>\n",
       "      <td>15365</td>\n",
       "      <td>0.000127</td>\n",
       "    </tr>\n",
       "    <tr>\n",
       "      <td rowspan=\"2\" valign=\"top\">NE</td>\n",
       "      <td>McPherson</td>\n",
       "      <td>13266</td>\n",
       "      <td>0.000110</td>\n",
       "    </tr>\n",
       "    <tr>\n",
       "      <td>Arthur</td>\n",
       "      <td>12129</td>\n",
       "      <td>0.000100</td>\n",
       "    </tr>\n",
       "    <tr>\n",
       "      <td rowspan=\"2\" valign=\"top\">TX</td>\n",
       "      <td>Kenedy</td>\n",
       "      <td>10731</td>\n",
       "      <td>0.000089</td>\n",
       "    </tr>\n",
       "    <tr>\n",
       "      <td>Loving</td>\n",
       "      <td>2172</td>\n",
       "      <td>0.000018</td>\n",
       "    </tr>\n",
       "  </tbody>\n",
       "</table>\n",
       "<p>3113 rows × 2 columns</p>\n",
       "</div>"
      ],
      "text/plain": [
       "                         sum   percent\n",
       "State County                          \n",
       " CA   Los Angeles  411495352  3.406575\n",
       " IL   Cook         224311065  1.856965\n",
       " TX   Harris       177898662  1.472739\n",
       " NY   New York     174534716  1.444890\n",
       " CA   Orange       140937698  1.166756\n",
       "...                      ...       ...\n",
       " TX   King             15365  0.000127\n",
       " NE   McPherson        13266  0.000110\n",
       "      Arthur           12129  0.000100\n",
       " TX   Kenedy           10731  0.000089\n",
       "      Loving            2172  0.000018\n",
       "\n",
       "[3113 rows x 2 columns]"
      ]
     },
     "execution_count": 342,
     "metadata": {},
     "output_type": "execute_result"
    }
   ],
   "source": [
    "#total personal income\n",
    "total_income = data['Personal_income_2009'].sum()\n",
    "\n",
    "df = pd.DataFrame(data.groupby(['State','County']).Personal_income_2009.agg(['sum']).sort_values(by='sum', ascending=False))\n",
    "\n",
    "#percent of personal income \n",
    "percent = df['sum']/total_income*100\n",
    "\n",
    "df['percent'] = percent\n",
    "df"
   ]
  },
  {
   "cell_type": "code",
   "execution_count": null,
   "metadata": {},
   "outputs": [],
   "source": []
  },
  {
   "cell_type": "code",
   "execution_count": null,
   "metadata": {},
   "outputs": [],
   "source": []
  },
  {
   "cell_type": "code",
   "execution_count": null,
   "metadata": {},
   "outputs": [],
   "source": []
  },
  {
   "cell_type": "code",
   "execution_count": 343,
   "metadata": {},
   "outputs": [
    {
     "data": {
      "text/plain": [
       "63"
      ]
     },
     "execution_count": 343,
     "metadata": {},
     "output_type": "execute_result"
    }
   ],
   "source": [
    "data['State'].nunique()"
   ]
  },
  {
   "cell_type": "code",
   "execution_count": 344,
   "metadata": {},
   "outputs": [
    {
     "data": {
      "text/plain": [
       " TX                               254\n",
       " GA                               159\n",
       " KY                               120\n",
       " MO                               115\n",
       " KS                               105\n",
       "                                 ... \n",
       " Manassas + Manassas Park           1\n",
       " Colonial Heights + Petersburg      1\n",
       " SD*                                1\n",
       " Staunton + Waynesboro              1\n",
       " Buena Vista + Lexington            1\n",
       "Name: State, Length: 63, dtype: int64"
      ]
     },
     "execution_count": 344,
     "metadata": {},
     "output_type": "execute_result"
    }
   ],
   "source": [
    "value_count = data['State'].value_counts()\n",
    "value_count"
   ]
  },
  {
   "cell_type": "code",
   "execution_count": 345,
   "metadata": {},
   "outputs": [
    {
     "data": {
      "text/plain": [
       "Index([' Fairfax City + Falls Church', ' DC', ' Manassas + Manassas Park',\n",
       "       ' Colonial Heights + Petersburg', ' SD*', ' Staunton + Waynesboro',\n",
       "       ' Buena Vista + Lexington'],\n",
       "      dtype='object')"
      ]
     },
     "execution_count": 345,
     "metadata": {},
     "output_type": "execute_result"
    }
   ],
   "source": [
    "index_sta = value_count[value_count==1].index\n",
    "index_sta"
   ]
  },
  {
   "cell_type": "code",
   "execution_count": 346,
   "metadata": {},
   "outputs": [],
   "source": [
    "for i in index_sta:\n",
    "    ind = data[data['State']==i].index\n",
    "    data.drop(ind, axis=0, inplace=True)"
   ]
  },
  {
   "cell_type": "code",
   "execution_count": null,
   "metadata": {},
   "outputs": [],
   "source": []
  },
  {
   "cell_type": "code",
   "execution_count": null,
   "metadata": {},
   "outputs": [],
   "source": []
  },
  {
   "cell_type": "code",
   "execution_count": 347,
   "metadata": {},
   "outputs": [],
   "source": [
    "#checking space before name of every State"
   ]
  },
  {
   "cell_type": "code",
   "execution_count": 348,
   "metadata": {},
   "outputs": [
    {
     "data": {
      "text/html": [
       "<div>\n",
       "<style scoped>\n",
       "    .dataframe tbody tr th:only-of-type {\n",
       "        vertical-align: middle;\n",
       "    }\n",
       "\n",
       "    .dataframe tbody tr th {\n",
       "        vertical-align: top;\n",
       "    }\n",
       "\n",
       "    .dataframe thead th {\n",
       "        text-align: right;\n",
       "    }\n",
       "</style>\n",
       "<table border=\"1\" class=\"dataframe\">\n",
       "  <thead>\n",
       "    <tr style=\"text-align: right;\">\n",
       "      <th></th>\n",
       "      <th>FIPS</th>\n",
       "      <th>State</th>\n",
       "      <th>County</th>\n",
       "      <th>POP_2009</th>\n",
       "      <th>Per_Cap_2009</th>\n",
       "      <th>Personal_income_2009</th>\n",
       "    </tr>\n",
       "  </thead>\n",
       "  <tbody>\n",
       "    <tr>\n",
       "      <td>0</td>\n",
       "      <td>1001</td>\n",
       "      <td>AL</td>\n",
       "      <td>Autauga</td>\n",
       "      <td>54135</td>\n",
       "      <td>32602.0</td>\n",
       "      <td>1764926</td>\n",
       "    </tr>\n",
       "    <tr>\n",
       "      <td>1</td>\n",
       "      <td>1003</td>\n",
       "      <td>AL</td>\n",
       "      <td>Baldwin</td>\n",
       "      <td>179406</td>\n",
       "      <td>34768.0</td>\n",
       "      <td>6237544</td>\n",
       "    </tr>\n",
       "    <tr>\n",
       "      <td>2</td>\n",
       "      <td>1005</td>\n",
       "      <td>AL</td>\n",
       "      <td>Barbour</td>\n",
       "      <td>27657</td>\n",
       "      <td>26461.0</td>\n",
       "      <td>731828</td>\n",
       "    </tr>\n",
       "    <tr>\n",
       "      <td>3</td>\n",
       "      <td>1007</td>\n",
       "      <td>AL</td>\n",
       "      <td>Bibb</td>\n",
       "      <td>22941</td>\n",
       "      <td>23803.0</td>\n",
       "      <td>546064</td>\n",
       "    </tr>\n",
       "    <tr>\n",
       "      <td>4</td>\n",
       "      <td>1009</td>\n",
       "      <td>AL</td>\n",
       "      <td>Blount</td>\n",
       "      <td>57341</td>\n",
       "      <td>27417.0</td>\n",
       "      <td>1572126</td>\n",
       "    </tr>\n",
       "  </tbody>\n",
       "</table>\n",
       "</div>"
      ],
      "text/plain": [
       "   FIPS State   County  POP_2009  Per_Cap_2009  Personal_income_2009\n",
       "0  1001    AL  Autauga     54135       32602.0               1764926\n",
       "1  1003    AL  Baldwin    179406       34768.0               6237544\n",
       "2  1005    AL  Barbour     27657       26461.0                731828\n",
       "3  1007    AL     Bibb     22941       23803.0                546064\n",
       "4  1009    AL   Blount     57341       27417.0               1572126"
      ]
     },
     "execution_count": 348,
     "metadata": {},
     "output_type": "execute_result"
    }
   ],
   "source": [
    "data[data['State']==' AL'].head()"
   ]
  },
  {
   "cell_type": "code",
   "execution_count": 349,
   "metadata": {},
   "outputs": [],
   "source": [
    "data['State'] = data['State'].str.replace(' ', '')"
   ]
  },
  {
   "cell_type": "code",
   "execution_count": null,
   "metadata": {},
   "outputs": [],
   "source": []
  },
  {
   "cell_type": "code",
   "execution_count": null,
   "metadata": {},
   "outputs": [],
   "source": []
  },
  {
   "cell_type": "code",
   "execution_count": 350,
   "metadata": {},
   "outputs": [],
   "source": [
    "#Checking Outlier"
   ]
  },
  {
   "cell_type": "code",
   "execution_count": 351,
   "metadata": {},
   "outputs": [
    {
     "data": {
      "text/plain": [
       "<matplotlib.axes._subplots.AxesSubplot at 0x7f8cbed40bd0>"
      ]
     },
     "execution_count": 351,
     "metadata": {},
     "output_type": "execute_result"
    },
    {
     "data": {
      "image/png": "[encoded data removed]",
      "text/plain": [
       "<Figure size 432x288 with 1 Axes>"
      ]
     },
     "metadata": {
      "needs_background": "light"
     },
     "output_type": "display_data"
    }
   ],
   "source": [
    "data['POP_2009'].hist(bins=70)"
   ]
  },
  {
   "cell_type": "code",
   "execution_count": 352,
   "metadata": {},
   "outputs": [
    {
     "data": {
      "text/plain": [
       "<matplotlib.axes._subplots.AxesSubplot at 0x7f8cbeb8d1d0>"
      ]
     },
     "execution_count": 352,
     "metadata": {},
     "output_type": "execute_result"
    },
    {
     "data": {
      "image/png": "[encoded data removed]",
      "text/plain": [
       "<Figure size 432x288 with 1 Axes>"
      ]
     },
     "metadata": {
      "needs_background": "light"
     },
     "output_type": "display_data"
    }
   ],
   "source": [
    "data['Per_Cap_2009'].hist(bins=70)"
   ]
  },
  {
   "cell_type": "code",
   "execution_count": 353,
   "metadata": {},
   "outputs": [
    {
     "data": {
      "text/plain": [
       "<matplotlib.axes._subplots.AxesSubplot at 0x7f8cbeaffe50>"
      ]
     },
     "execution_count": 353,
     "metadata": {},
     "output_type": "execute_result"
    },
    {
     "data": {
      "image/png": "[encoded data removed]",
      "text/plain": [
       "<Figure size 432x288 with 1 Axes>"
      ]
     },
     "metadata": {
      "needs_background": "light"
     },
     "output_type": "display_data"
    }
   ],
   "source": [
    "data['Personal_income_2009'].hist(bins=70)"
   ]
  },
  {
   "cell_type": "code",
   "execution_count": null,
   "metadata": {},
   "outputs": [],
   "source": []
  },
  {
   "cell_type": "code",
   "execution_count": null,
   "metadata": {},
   "outputs": [],
   "source": []
  },
  {
   "cell_type": "code",
   "execution_count": 354,
   "metadata": {},
   "outputs": [],
   "source": [
    "#removing outlier"
   ]
  },
  {
   "cell_type": "code",
   "execution_count": 355,
   "metadata": {},
   "outputs": [
    {
     "data": {
      "text/html": [
       "<div>\n",
       "<style scoped>\n",
       "    .dataframe tbody tr th:only-of-type {\n",
       "        vertical-align: middle;\n",
       "    }\n",
       "\n",
       "    .dataframe tbody tr th {\n",
       "        vertical-align: top;\n",
       "    }\n",
       "\n",
       "    .dataframe thead th {\n",
       "        text-align: right;\n",
       "    }\n",
       "</style>\n",
       "<table border=\"1\" class=\"dataframe\">\n",
       "  <thead>\n",
       "    <tr style=\"text-align: right;\">\n",
       "      <th></th>\n",
       "      <th>FIPS</th>\n",
       "      <th>State</th>\n",
       "      <th>County</th>\n",
       "      <th>POP_2009</th>\n",
       "      <th>Per_Cap_2009</th>\n",
       "      <th>Personal_income_2009</th>\n",
       "    </tr>\n",
       "  </thead>\n",
       "  <tbody>\n",
       "    <tr>\n",
       "      <td>0</td>\n",
       "      <td>1001</td>\n",
       "      <td>AL</td>\n",
       "      <td>Autauga</td>\n",
       "      <td>54135</td>\n",
       "      <td>32602.0</td>\n",
       "      <td>1764926</td>\n",
       "    </tr>\n",
       "    <tr>\n",
       "      <td>1</td>\n",
       "      <td>1003</td>\n",
       "      <td>AL</td>\n",
       "      <td>Baldwin</td>\n",
       "      <td>179406</td>\n",
       "      <td>34768.0</td>\n",
       "      <td>6237544</td>\n",
       "    </tr>\n",
       "    <tr>\n",
       "      <td>2</td>\n",
       "      <td>1005</td>\n",
       "      <td>AL</td>\n",
       "      <td>Barbour</td>\n",
       "      <td>27657</td>\n",
       "      <td>26461.0</td>\n",
       "      <td>731828</td>\n",
       "    </tr>\n",
       "    <tr>\n",
       "      <td>3</td>\n",
       "      <td>1007</td>\n",
       "      <td>AL</td>\n",
       "      <td>Bibb</td>\n",
       "      <td>22941</td>\n",
       "      <td>23803.0</td>\n",
       "      <td>546064</td>\n",
       "    </tr>\n",
       "    <tr>\n",
       "      <td>4</td>\n",
       "      <td>1009</td>\n",
       "      <td>AL</td>\n",
       "      <td>Blount</td>\n",
       "      <td>57341</td>\n",
       "      <td>27417.0</td>\n",
       "      <td>1572126</td>\n",
       "    </tr>\n",
       "  </tbody>\n",
       "</table>\n",
       "</div>"
      ],
      "text/plain": [
       "   FIPS State   County  POP_2009  Per_Cap_2009  Personal_income_2009\n",
       "0  1001    AL  Autauga     54135       32602.0               1764926\n",
       "1  1003    AL  Baldwin    179406       34768.0               6237544\n",
       "2  1005    AL  Barbour     27657       26461.0                731828\n",
       "3  1007    AL     Bibb     22941       23803.0                546064\n",
       "4  1009    AL   Blount     57341       27417.0               1572126"
      ]
     },
     "execution_count": 355,
     "metadata": {},
     "output_type": "execute_result"
    }
   ],
   "source": [
    "data.head()"
   ]
  },
  {
   "cell_type": "code",
   "execution_count": 356,
   "metadata": {},
   "outputs": [],
   "source": [
    "#POP_2009"
   ]
  },
  {
   "cell_type": "code",
   "execution_count": 357,
   "metadata": {},
   "outputs": [],
   "source": [
    "data = data[(data['POP_2009']<=500000) & (data['POP_2009']>1000)]"
   ]
  },
  {
   "cell_type": "code",
   "execution_count": null,
   "metadata": {},
   "outputs": [],
   "source": []
  },
  {
   "cell_type": "code",
   "execution_count": 358,
   "metadata": {},
   "outputs": [],
   "source": [
    "#Per_Cap_2009"
   ]
  },
  {
   "cell_type": "code",
   "execution_count": 359,
   "metadata": {},
   "outputs": [],
   "source": [
    "data = data[data['Per_Cap_2009']<=100000]"
   ]
  },
  {
   "cell_type": "code",
   "execution_count": null,
   "metadata": {},
   "outputs": [],
   "source": []
  },
  {
   "cell_type": "code",
   "execution_count": 360,
   "metadata": {},
   "outputs": [],
   "source": [
    "#Personal_income_2009"
   ]
  },
  {
   "cell_type": "code",
   "execution_count": 361,
   "metadata": {},
   "outputs": [],
   "source": [
    "data = data[(data['Personal_income_2009']<=10000000) & (data['Personal_income_2009']>=50000)]"
   ]
  },
  {
   "cell_type": "code",
   "execution_count": null,
   "metadata": {},
   "outputs": [],
   "source": []
  },
  {
   "cell_type": "code",
   "execution_count": null,
   "metadata": {},
   "outputs": [],
   "source": []
  },
  {
   "cell_type": "code",
   "execution_count": 362,
   "metadata": {},
   "outputs": [],
   "source": [
    "#making dummy data"
   ]
  },
  {
   "cell_type": "code",
   "execution_count": 363,
   "metadata": {},
   "outputs": [],
   "source": [
    "dummy_state = pd.get_dummies(data['State'])\n",
    "dummy_County = pd.get_dummies(data['County'])"
   ]
  },
  {
   "cell_type": "code",
   "execution_count": 364,
   "metadata": {},
   "outputs": [],
   "source": [
    "data = pd.concat([data,dummy_state,dummy_County], axis=1)"
   ]
  },
  {
   "cell_type": "code",
   "execution_count": null,
   "metadata": {},
   "outputs": [],
   "source": []
  },
  {
   "cell_type": "code",
   "execution_count": 365,
   "metadata": {},
   "outputs": [],
   "source": [
    "#dropping some columns"
   ]
  },
  {
   "cell_type": "code",
   "execution_count": 366,
   "metadata": {},
   "outputs": [],
   "source": [
    "data = data.drop(['FIPS','State','County'], axis=1)"
   ]
  },
  {
   "cell_type": "code",
   "execution_count": 367,
   "metadata": {},
   "outputs": [
    {
     "data": {
      "text/html": [
       "<div>\n",
       "<style scoped>\n",
       "    .dataframe tbody tr th:only-of-type {\n",
       "        vertical-align: middle;\n",
       "    }\n",
       "\n",
       "    .dataframe tbody tr th {\n",
       "        vertical-align: top;\n",
       "    }\n",
       "\n",
       "    .dataframe thead th {\n",
       "        text-align: right;\n",
       "    }\n",
       "</style>\n",
       "<table border=\"1\" class=\"dataframe\">\n",
       "  <thead>\n",
       "    <tr style=\"text-align: right;\">\n",
       "      <th></th>\n",
       "      <th>POP_2009</th>\n",
       "      <th>Per_Cap_2009</th>\n",
       "      <th>Personal_income_2009</th>\n",
       "      <th>AK</th>\n",
       "      <th>AK*</th>\n",
       "      <th>AL</th>\n",
       "      <th>AR</th>\n",
       "      <th>AZ</th>\n",
       "      <th>AZ*</th>\n",
       "      <th>CA</th>\n",
       "      <th>...</th>\n",
       "      <th>Yoakum</th>\n",
       "      <th>Yolo</th>\n",
       "      <th>York</th>\n",
       "      <th>York + Poquoson</th>\n",
       "      <th>Young</th>\n",
       "      <th>Yuba</th>\n",
       "      <th>Yukon-Koyukuk Census Area</th>\n",
       "      <th>Yuma</th>\n",
       "      <th>Zapata</th>\n",
       "      <th>Zavala</th>\n",
       "    </tr>\n",
       "  </thead>\n",
       "  <tbody>\n",
       "    <tr>\n",
       "      <td>0</td>\n",
       "      <td>54135</td>\n",
       "      <td>32602.0</td>\n",
       "      <td>1764926</td>\n",
       "      <td>0</td>\n",
       "      <td>0</td>\n",
       "      <td>1</td>\n",
       "      <td>0</td>\n",
       "      <td>0</td>\n",
       "      <td>0</td>\n",
       "      <td>0</td>\n",
       "      <td>...</td>\n",
       "      <td>0</td>\n",
       "      <td>0</td>\n",
       "      <td>0</td>\n",
       "      <td>0</td>\n",
       "      <td>0</td>\n",
       "      <td>0</td>\n",
       "      <td>0</td>\n",
       "      <td>0</td>\n",
       "      <td>0</td>\n",
       "      <td>0</td>\n",
       "    </tr>\n",
       "    <tr>\n",
       "      <td>1</td>\n",
       "      <td>179406</td>\n",
       "      <td>34768.0</td>\n",
       "      <td>6237544</td>\n",
       "      <td>0</td>\n",
       "      <td>0</td>\n",
       "      <td>1</td>\n",
       "      <td>0</td>\n",
       "      <td>0</td>\n",
       "      <td>0</td>\n",
       "      <td>0</td>\n",
       "      <td>...</td>\n",
       "      <td>0</td>\n",
       "      <td>0</td>\n",
       "      <td>0</td>\n",
       "      <td>0</td>\n",
       "      <td>0</td>\n",
       "      <td>0</td>\n",
       "      <td>0</td>\n",
       "      <td>0</td>\n",
       "      <td>0</td>\n",
       "      <td>0</td>\n",
       "    </tr>\n",
       "    <tr>\n",
       "      <td>2</td>\n",
       "      <td>27657</td>\n",
       "      <td>26461.0</td>\n",
       "      <td>731828</td>\n",
       "      <td>0</td>\n",
       "      <td>0</td>\n",
       "      <td>1</td>\n",
       "      <td>0</td>\n",
       "      <td>0</td>\n",
       "      <td>0</td>\n",
       "      <td>0</td>\n",
       "      <td>...</td>\n",
       "      <td>0</td>\n",
       "      <td>0</td>\n",
       "      <td>0</td>\n",
       "      <td>0</td>\n",
       "      <td>0</td>\n",
       "      <td>0</td>\n",
       "      <td>0</td>\n",
       "      <td>0</td>\n",
       "      <td>0</td>\n",
       "      <td>0</td>\n",
       "    </tr>\n",
       "    <tr>\n",
       "      <td>3</td>\n",
       "      <td>22941</td>\n",
       "      <td>23803.0</td>\n",
       "      <td>546064</td>\n",
       "      <td>0</td>\n",
       "      <td>0</td>\n",
       "      <td>1</td>\n",
       "      <td>0</td>\n",
       "      <td>0</td>\n",
       "      <td>0</td>\n",
       "      <td>0</td>\n",
       "      <td>...</td>\n",
       "      <td>0</td>\n",
       "      <td>0</td>\n",
       "      <td>0</td>\n",
       "      <td>0</td>\n",
       "      <td>0</td>\n",
       "      <td>0</td>\n",
       "      <td>0</td>\n",
       "      <td>0</td>\n",
       "      <td>0</td>\n",
       "      <td>0</td>\n",
       "    </tr>\n",
       "    <tr>\n",
       "      <td>4</td>\n",
       "      <td>57341</td>\n",
       "      <td>27417.0</td>\n",
       "      <td>1572126</td>\n",
       "      <td>0</td>\n",
       "      <td>0</td>\n",
       "      <td>1</td>\n",
       "      <td>0</td>\n",
       "      <td>0</td>\n",
       "      <td>0</td>\n",
       "      <td>0</td>\n",
       "      <td>...</td>\n",
       "      <td>0</td>\n",
       "      <td>0</td>\n",
       "      <td>0</td>\n",
       "      <td>0</td>\n",
       "      <td>0</td>\n",
       "      <td>0</td>\n",
       "      <td>0</td>\n",
       "      <td>0</td>\n",
       "      <td>0</td>\n",
       "      <td>0</td>\n",
       "    </tr>\n",
       "  </tbody>\n",
       "</table>\n",
       "<p>5 rows × 1718 columns</p>\n",
       "</div>"
      ],
      "text/plain": [
       "   POP_2009  Per_Cap_2009  Personal_income_2009  AK  AK*  AL  AR  AZ  AZ*  CA  \\\n",
       "0     54135       32602.0               1764926   0    0   1   0   0    0   0   \n",
       "1    179406       34768.0               6237544   0    0   1   0   0    0   0   \n",
       "2     27657       26461.0                731828   0    0   1   0   0    0   0   \n",
       "3     22941       23803.0                546064   0    0   1   0   0    0   0   \n",
       "4     57341       27417.0               1572126   0    0   1   0   0    0   0   \n",
       "\n",
       "   ...  Yoakum  Yolo  York  York + Poquoson  Young  Yuba  \\\n",
       "0  ...       0     0     0                0      0     0   \n",
       "1  ...       0     0     0                0      0     0   \n",
       "2  ...       0     0     0                0      0     0   \n",
       "3  ...       0     0     0                0      0     0   \n",
       "4  ...       0     0     0                0      0     0   \n",
       "\n",
       "   Yukon-Koyukuk Census Area  Yuma  Zapata  Zavala  \n",
       "0                          0     0       0       0  \n",
       "1                          0     0       0       0  \n",
       "2                          0     0       0       0  \n",
       "3                          0     0       0       0  \n",
       "4                          0     0       0       0  \n",
       "\n",
       "[5 rows x 1718 columns]"
      ]
     },
     "execution_count": 367,
     "metadata": {},
     "output_type": "execute_result"
    }
   ],
   "source": [
    "data.head()"
   ]
  },
  {
   "cell_type": "code",
   "execution_count": null,
   "metadata": {},
   "outputs": [],
   "source": []
  },
  {
   "cell_type": "code",
   "execution_count": 368,
   "metadata": {},
   "outputs": [],
   "source": [
    "#splitting dataset into feature and target data"
   ]
  },
  {
   "cell_type": "code",
   "execution_count": 369,
   "metadata": {},
   "outputs": [],
   "source": [
    "X = data.drop(['Personal_income_2009'], axis=1)\n",
    "y = data['Personal_income_2009']"
   ]
  },
  {
   "cell_type": "code",
   "execution_count": null,
   "metadata": {},
   "outputs": [],
   "source": []
  },
  {
   "cell_type": "code",
   "execution_count": null,
   "metadata": {},
   "outputs": [],
   "source": []
  },
  {
   "cell_type": "code",
   "execution_count": 370,
   "metadata": {},
   "outputs": [],
   "source": [
    "#testing by different algorithm "
   ]
  },
  {
   "cell_type": "code",
   "execution_count": 371,
   "metadata": {},
   "outputs": [],
   "source": [
    "def selecting_best_model(X,y):\n",
    "    algorithms={\n",
    "        'Ridge':{\n",
    "            'model':Ridge(),\n",
    "            'param':{\n",
    "                'alpha':[1.0,2.0],\n",
    "                'copy_X':[True,False],\n",
    "                'fit_intercept':[True, False],\n",
    "                'normalize':[True, False]\n",
    "            }\n",
    "        },\n",
    "        'RandomForestRegressor':{\n",
    "            'model':RandomForestRegressor(),\n",
    "            'param':{\n",
    "                'n_estimators':[100,200,300],\n",
    "                'bootstrap':[True,False],\n",
    "                'min_samples_leaf':[1,2],\n",
    "            }\n",
    "        },\n",
    "        'KNeighborsRegressor':{\n",
    "            'model':KNeighborsRegressor(),\n",
    "            'param':{\n",
    "                'leaf_size':[20,30,40,50],\n",
    "                'n_neighbors':[5,8,10,15,20]\n",
    "            }\n",
    "        },\n",
    "        'Lasso':{\n",
    "            'model':Lasso(),\n",
    "            'param':{\n",
    "                'fit_intercept':[True, False],\n",
    "                'max_iter':[10000,15000,20000],\n",
    "                'tol':[.0001,.001],\n",
    "            }\n",
    "        },\n",
    "    }\n",
    "    \n",
    "    scores = []\n",
    "    cv = ShuffleSplit(n_splits=5, test_size=.3, random_state=0)\n",
    "    for name, algo in algorithms.items():\n",
    "        gs = GridSearchCV(algo['model'], algo['param'], cv=cv, return_train_score=False)\n",
    "        gs.fit(X,y)\n",
    "        \n",
    "        scores.append({\n",
    "            'name':name,\n",
    "            'best_scores':gs.best_score_,\n",
    "            'best_params':gs.best_params_\n",
    "        })\n",
    "        \n",
    "    return pd.DataFrame(scores, columns=['name','best_scores', 'best_params'])"
   ]
  },
  {
   "cell_type": "code",
   "execution_count": 372,
   "metadata": {},
   "outputs": [
    {
     "data": {
      "text/html": [
       "<div>\n",
       "<style scoped>\n",
       "    .dataframe tbody tr th:only-of-type {\n",
       "        vertical-align: middle;\n",
       "    }\n",
       "\n",
       "    .dataframe tbody tr th {\n",
       "        vertical-align: top;\n",
       "    }\n",
       "\n",
       "    .dataframe thead th {\n",
       "        text-align: right;\n",
       "    }\n",
       "</style>\n",
       "<table border=\"1\" class=\"dataframe\">\n",
       "  <thead>\n",
       "    <tr style=\"text-align: right;\">\n",
       "      <th></th>\n",
       "      <th>name</th>\n",
       "      <th>best_scores</th>\n",
       "      <th>best_params</th>\n",
       "    </tr>\n",
       "  </thead>\n",
       "  <tbody>\n",
       "    <tr>\n",
       "      <td>0</td>\n",
       "      <td>Ridge</td>\n",
       "      <td>0.970884</td>\n",
       "      <td>{'alpha': 2.0, 'copy_X': True, 'fit_intercept'...</td>\n",
       "    </tr>\n",
       "    <tr>\n",
       "      <td>1</td>\n",
       "      <td>RandomForestRegressor</td>\n",
       "      <td>0.995856</td>\n",
       "      <td>{'bootstrap': True, 'min_samples_leaf': 2, 'n_...</td>\n",
       "    </tr>\n",
       "    <tr>\n",
       "      <td>2</td>\n",
       "      <td>KNeighborsRegressor</td>\n",
       "      <td>0.993165</td>\n",
       "      <td>{'leaf_size': 20, 'n_neighbors': 5}</td>\n",
       "    </tr>\n",
       "    <tr>\n",
       "      <td>3</td>\n",
       "      <td>Lasso</td>\n",
       "      <td>0.964323</td>\n",
       "      <td>{'fit_intercept': False, 'max_iter': 10000, 't...</td>\n",
       "    </tr>\n",
       "  </tbody>\n",
       "</table>\n",
       "</div>"
      ],
      "text/plain": [
       "                    name  best_scores  \\\n",
       "0                  Ridge     0.970884   \n",
       "1  RandomForestRegressor     0.995856   \n",
       "2    KNeighborsRegressor     0.993165   \n",
       "3                  Lasso     0.964323   \n",
       "\n",
       "                                         best_params  \n",
       "0  {'alpha': 2.0, 'copy_X': True, 'fit_intercept'...  \n",
       "1  {'bootstrap': True, 'min_samples_leaf': 2, 'n_...  \n",
       "2                {'leaf_size': 20, 'n_neighbors': 5}  \n",
       "3  {'fit_intercept': False, 'max_iter': 10000, 't...  "
      ]
     },
     "execution_count": 372,
     "metadata": {},
     "output_type": "execute_result"
    }
   ],
   "source": [
    "selecting_best_model(X,y)"
   ]
  },
  {
   "cell_type": "code",
   "execution_count": null,
   "metadata": {},
   "outputs": [],
   "source": []
  },
  {
   "cell_type": "code",
   "execution_count": null,
   "metadata": {},
   "outputs": [],
   "source": []
  },
  {
   "cell_type": "code",
   "execution_count": 385,
   "metadata": {},
   "outputs": [],
   "source": [
    "#splitting feature and target dataset for training and testing"
   ]
  },
  {
   "cell_type": "code",
   "execution_count": 386,
   "metadata": {},
   "outputs": [],
   "source": [
    "Xtrain,xtest, Ytrain,ytest = train_test_split(X,y, test_size=.3, random_state=0)"
   ]
  },
  {
   "cell_type": "code",
   "execution_count": null,
   "metadata": {},
   "outputs": [],
   "source": []
  },
  {
   "cell_type": "code",
   "execution_count": 406,
   "metadata": {},
   "outputs": [],
   "source": [
    "#defining model"
   ]
  },
  {
   "cell_type": "code",
   "execution_count": 440,
   "metadata": {},
   "outputs": [
    {
     "data": {
      "text/plain": [
       "RandomForestRegressor(bootstrap=True, criterion='mse', max_depth=None,\n",
       "                      max_features='auto', max_leaf_nodes=None,\n",
       "                      min_impurity_decrease=0.0, min_impurity_split=None,\n",
       "                      min_samples_leaf=1, min_samples_split=2,\n",
       "                      min_weight_fraction_leaf=0.0, n_estimators=100,\n",
       "                      n_jobs=None, oob_score=False, random_state=None,\n",
       "                      verbose=0, warm_start=False)"
      ]
     },
     "execution_count": 440,
     "metadata": {},
     "output_type": "execute_result"
    }
   ],
   "source": [
    "rfr = RandomForestRegressor(n_estimators=100)\n",
    "rfr.fit(Xtrain,Ytrain)"
   ]
  },
  {
   "cell_type": "code",
   "execution_count": 441,
   "metadata": {},
   "outputs": [
    {
     "data": {
      "text/plain": [
       "array([ 265791.33,  634944.79,   91228.29,  327829.53, 1454079.93,\n",
       "        438544.25, 1960374.07, 7405188.48, 4697893.22, 1259850.79,\n",
       "        274987.49, 2043497.78,  369667.02,  979828.66, 4978572.66,\n",
       "        520927.32, 8178157.99, 1206888.06,  822867.11,  587419.49,\n",
       "        305646.69, 4520190.72,  646561.76,  643931.53, 2640342.02,\n",
       "        508436.93, 1270508.  ,  778144.38, 4443736.5 , 9515869.34,\n",
       "        259175.57,  988210.2 ,  890425.01, 1290645.16, 1170873.72,\n",
       "        607167.26, 9156477.71,  814827.82,  274255.42,  679068.05,\n",
       "        260359.3 ,  521931.23,  471955.55, 1053798.7 ,  984857.22,\n",
       "       1139538.24, 2626374.4 ,  984645.95, 4126384.44,  238528.17,\n",
       "       1669355.94, 5364075.95, 1659161.23,  205507.44,  649163.83,\n",
       "        464916.33, 1853783.99,  490188.68, 9454165.89,  322225.63,\n",
       "        824876.09,  225309.33, 1098781.41,   81977.57,  133786.41,\n",
       "        513757.99,  200967.83,  391594.37, 1897185.  ,  208421.48,\n",
       "        494446.5 , 2493720.09, 2035430.67, 6471299.8 , 1742711.77,\n",
       "       1361545.71, 1078053.73,  922753.79,  958413.17,  756256.23,\n",
       "        961734.8 , 5244251.22,  957210.18, 1094700.16, 5417724.93,\n",
       "        549126.36,  362401.28,  230375.84,  370923.42,  327518.24,\n",
       "        470624.38,  287583.25, 2983822.61, 1814112.32,  391319.26,\n",
       "         66531.07,  815692.26,  866921.89, 1776027.02,  451650.75,\n",
       "        719160.13,  762869.94,  616887.82,  289254.16,  731159.93,\n",
       "       1144586.52,   94266.91, 3079781.87, 1237261.51,  688722.93,\n",
       "        950811.31,  546992.26,  209564.3 , 4311128.19,  383888.25,\n",
       "        443219.02,  293635.8 ,  992240.16, 1751768.74,  737327.26,\n",
       "       3343773.81,  716134.19,  703137.34, 1035346.36, 2969934.19,\n",
       "        209590.88, 1213814.31,  196231.4 ,  340708.99,  164228.16,\n",
       "       4176778.79, 3875133.11,  411373.91,  779992.33, 1249143.85,\n",
       "         68707.38,  131161.47, 1602890.85,  393148.42,  823278.57,\n",
       "        407329.88, 1147072.87, 1858115.87, 1628215.93,  739293.66,\n",
       "        215364.  , 1479753.84,  127335.31,  234784.77, 4091001.05,\n",
       "       3518990.94,  734969.  ,  154138.02,  184596.66,  373559.91,\n",
       "        454278.06,  335648.66,  459542.97,  286753.17, 4417728.08,\n",
       "       5112299.61,  968991.7 , 1359618.78, 5150929.61,  270922.7 ,\n",
       "       1277822.25, 1657281.17,  208630.34,  175106.65, 2883667.32,\n",
       "        707698.84, 3553155.79,  584938.57,  397664.77,   64342.48,\n",
       "       1139190.28, 4361426.4 ,  476840.11, 1390467.22,  824918.66,\n",
       "       1951826.02,  181955.23,  950223.79, 8196814.06, 3239534.  ,\n",
       "        160523.26,  211268.34, 1307550.99,  550286.64,  400306.33,\n",
       "        203486.01,  880952.41,  308100.4 ,  110897.59,   75903.3 ,\n",
       "        545817.58, 1010662.28, 1587099.22,  783681.26,  449316.81,\n",
       "       4326338.56,   87550.61,  885780.51, 3506881.01,  387795.62,\n",
       "        993098.11, 8136898.12,  572310.39, 1038285.28, 1384601.13,\n",
       "       3871330.77, 3664681.81, 1196991.27, 2528376.  , 1986935.32,\n",
       "       2072177.11, 5201727.41,  196138.75,  688055.37, 2473470.37,\n",
       "        315775.51, 2699011.51, 1801228.5 ,  185594.06, 5225999.59,\n",
       "        828259.84, 1842434.95,  894010.76,  547768.99,  805096.04,\n",
       "       1060510.82,  120814.38, 3158407.88,   66224.74, 1825667.88,\n",
       "        403413.97, 2126784.8 , 1346437.08,  289003.39,  134853.79,\n",
       "       2510593.75,  769658.46,  382014.49,  895193.36,  660303.13,\n",
       "        157120.62,  441789.3 ,  766988.24, 8228602.06, 1508086.83,\n",
       "       2261444.89, 4303303.59, 1103113.17,  135125.45, 1026084.24,\n",
       "       1750658.47,  257313.26,  168101.15,  951376.21,  497353.  ,\n",
       "        758966.95, 1401537.79, 5979898.64, 1296845.79,  467863.97,\n",
       "        216554.83,  200133.97, 3582746.86,  243347.22,  917605.77,\n",
       "        323772.67,  695000.15, 1548720.24,   84427.04,  743917.62,\n",
       "        330294.95,  157736.19,  172674.74, 1319749.95,  354523.9 ,\n",
       "        578859.15,  360878.74,  234382.52,  350141.04,  747437.26,\n",
       "       1058632.87, 3420976.23,  593452.95,  344211.14,  443784.38,\n",
       "        829703.96,  451635.6 , 1742766.04,  254950.63,  142282.96,\n",
       "        622032.88,  329389.36,  124856.61,  158259.9 ,  263133.78,\n",
       "        206977.1 ,  975606.88,  994127.9 ,  712351.28,  170210.86,\n",
       "       3444754.59,  226679.32,  172439.65,  525727.31,  157057.01,\n",
       "        542661.37,  578049.02,   95232.53, 1050820.63,  211419.3 ,\n",
       "        646350.96,  587333.6 ,  248469.1 ,  785484.95,  463287.19,\n",
       "        216661.67,  721943.3 ,  142068.77, 2317658.82, 2316718.12,\n",
       "         80899.63,  742796.58,  441651.73,  163139.14,  389000.01,\n",
       "        453622.97, 2299406.11,  417918.6 ,  989956.25, 1805131.49,\n",
       "        101754.79, 6678175.24,  202516.55,  775878.5 ,  359728.41,\n",
       "       1415279.68, 1623908.97,  364693.42,  190517.54,  188914.5 ,\n",
       "        210525.26,  734109.82,  377931.87,  458962.18,  415914.34,\n",
       "       3533038.74, 1265860.69,  159052.93,  751229.72,  316573.27,\n",
       "        286439.06,  692449.07, 1009110.16, 9463887.72, 1309865.69,\n",
       "        371118.3 ,  362099.55,  207552.96, 1979099.3 , 1488082.82,\n",
       "        991174.21,  216052.82,  561471.35, 3230585.69,  314180.37,\n",
       "         69247.75,  372707.9 ,  413767.43, 2035740.39,   88468.03,\n",
       "       1495174.35,  208890.8 , 6300031.33,  273668.55, 9451920.96,\n",
       "        354492.26,  367312.7 , 1003494.53,  424801.36, 1726971.4 ,\n",
       "        769044.12,  383364.39,  711431.04, 2502432.48, 1008194.19,\n",
       "       1264175.59,  774194.33, 5970021.55, 2081293.26,  271510.49,\n",
       "       2234377.42, 4256504.74,  106048.66, 1300948.01, 1388761.72,\n",
       "       1060210.49,  551435.86,  534206.41, 1777245.3 ,  397327.91,\n",
       "        540671.31,  307456.81, 1052044.13,  593762.  , 1861812.06,\n",
       "        316230.58, 3463521.3 , 1128826.42, 1163596.92, 2411337.49,\n",
       "       3538638.62, 6245813.94,  745235.16, 1576131.13, 6944211.87,\n",
       "       1805353.78,  318163.37, 5046777.93,  100424.76, 1589154.15,\n",
       "       1088803.12,  136912.44, 1314986.42, 2814491.28, 6693137.76,\n",
       "        319219.52, 1674315.46, 2988667.14,  176833.76,  869696.62,\n",
       "       1954047.49,  198615.32, 1721565.88,  272939.69,  625104.86,\n",
       "       4051543.8 ,  845161.37,  195752.19,  403096.6 ,  253478.1 ,\n",
       "        542955.36,  530501.99,  326853.5 ,  533861.37,  190819.67,\n",
       "        541119.6 ,  445037.7 , 7805955.05, 3333857.66,  148493.57,\n",
       "       6383903.5 ,  109797.29,  554837.53,  992623.98,  497024.15,\n",
       "         88588.06,   78440.67, 3166724.37,  525828.46, 2372490.16,\n",
       "        197891.03, 1134757.69, 8895788.77, 1639196.13,  492595.69,\n",
       "       3044948.09, 3765636.27,  184848.03, 2036523.88,  986961.33,\n",
       "        627158.03,  390414.02, 2760989.31,  318576.49,  760172.62,\n",
       "        120381.98, 4696253.05, 5879788.74, 1599028.12,  243446.14,\n",
       "        186850.04, 2137425.78, 1558579.27, 1361902.92, 1767697.59,\n",
       "        394954.91, 1542132.72, 4908604.15,  326285.16,  365228.86,\n",
       "        579380.77, 1093782.1 ,  642616.74,  268826.6 , 5617011.44,\n",
       "        962958.33, 4130244.26,  633936.09, 2310220.87,  216956.4 ,\n",
       "        755081.2 , 7288435.44, 1506475.96,  530880.02,  441250.07,\n",
       "       5167882.69, 3595401.56,  856503.69,  410329.95, 3010051.55,\n",
       "        660920.5 ,  424433.1 ,  606700.37,  239894.44, 2724161.35,\n",
       "       1062614.14,  282633.77,  586836.33, 2229587.13, 3501259.1 ,\n",
       "        354885.81,   94258.29,  292351.89,  106640.97,  294142.81,\n",
       "        135049.91,  630089.33,  286633.67, 1436129.38,  367283.97,\n",
       "        840914.92, 8358346.69, 2164751.95, 1172088.84, 1164375.35,\n",
       "       7187640.06, 3214710.64,  110491.83, 4342698.36, 2362564.7 ,\n",
       "       9279228.25, 1305283.69,  659416.03,  277028.14,  391584.  ,\n",
       "        679129.03,  320479.97, 2073578.47, 2295435.76,  136074.42,\n",
       "        137699.37,  153264.03, 3853611.47,  249878.45, 6900027.2 ,\n",
       "       3075463.17,  147496.26,  195995.73,  241276.71, 1223052.31,\n",
       "        941213.84, 1361326.45,  942575.54,  789995.73,  149862.32,\n",
       "        773292.9 ,  134771.26,   90803.5 , 1111573.45,  127033.79,\n",
       "       1428687.19,  140740.85,  412243.63,  347456.19, 1790823.28,\n",
       "        636141.92, 2794407.85, 5385802.15,  399556.08,  380432.49,\n",
       "        236710.84, 2325331.16, 5595088.49, 2473695.72,  686613.  ,\n",
       "        724566.79, 1596827.16, 1915040.45,  685160.42,  606243.52,\n",
       "        850203.94, 7931393.82, 1047594.1 , 5166451.93, 1300920.75,\n",
       "        240229.74,  382739.74, 2266058.18,  297961.89, 1060662.33,\n",
       "       1791115.32,  339823.45, 1953564.48,   92165.47,  466752.48,\n",
       "       1380064.27, 1144370.27, 1560322.5 ,   70388.92, 1122461.78,\n",
       "       2426713.74,  723259.7 , 1792542.97,  591959.8 ,  615783.02,\n",
       "        346507.5 , 1349882.4 ,  410862.94,  325897.48, 5050503.14,\n",
       "        531713.14,  590725.84, 4065683.48, 3269485.76, 2425319.93,\n",
       "       1151013.56,  442454.84, 2749257.1 ,  271421.13,  615308.31,\n",
       "       8590258.85,  120201.77, 3057101.74, 1637404.42, 1143649.24,\n",
       "        439095.49,  246178.9 ,  592431.69, 4516260.55,  756032.87,\n",
       "        787971.12,  372629.56,  661965.39, 2236200.39,  714867.52,\n",
       "       2456052.11, 3881955.38, 7253268.61,  495006.99, 1138395.12,\n",
       "        173616.59,  176901.27,  339159.21,  251707.97,  220363.65,\n",
       "        933191.54,  548495.62, 3699348.75,  414674.43,  404239.56,\n",
       "       1032512.67,  204999.13, 2080485.93,  667927.56, 3410954.17,\n",
       "        601774.76, 1112698.77, 1974420.89, 2222369.11, 2759677.05,\n",
       "        204173.32,  254263.51,  823485.05, 5183794.26, 1293477.67,\n",
       "       3783854.38,  158416.32, 5614640.85, 1512797.3 , 1350575.45,\n",
       "       5141781.37,  974393.78, 4060509.14, 2357820.99,  816553.82,\n",
       "         59571.64, 1393781.81,  626794.61,  856876.32,  288896.75,\n",
       "       2802140.93,  701108.72, 6001309.51,   73212.73,  681262.76,\n",
       "        614145.89,  651872.34,  757316.68,  400271.64,  198344.16,\n",
       "       1369005.89,  880853.42, 2343803.82, 1095959.42,  729055.85,\n",
       "       1045082.67,  172958.39, 1219280.5 , 2672430.65, 1103750.86,\n",
       "       1825497.58,  444171.24, 1475104.75,  893402.96,  452677.61,\n",
       "        451639.72,   60382.1 , 2134361.  ,  282633.5 ,  213336.51,\n",
       "        278168.99,  722663.41,  833655.58,  535300.42, 8597289.53,\n",
       "       1218197.37,  449251.44,  789294.38, 2386324.2 ,  424372.76,\n",
       "        341187.76, 1302453.  , 8199464.11,  398163.67, 1976553.29,\n",
       "        613525.86, 1011001.41,  510297.14, 4368069.15, 1328993.17,\n",
       "       1140066.83, 1379944.01, 4555760.64,  217232.24,  137227.56,\n",
       "        858288.28, 6027094.59, 1614511.49,  728953.26, 6224260.58,\n",
       "        272893.16, 3338046.72, 5676197.15, 1588150.92,  612229.47,\n",
       "       8395304.87, 2007108.2 ,  377964.6 ,  779176.95,  651160.97,\n",
       "        267739.51,  206391.7 ,  366557.82, 1695311.83, 1542754.12,\n",
       "       6282259.43,  207216.16, 1503041.42,  251199.45, 1012133.7 ,\n",
       "         96460.55, 1053999.94,  635544.22,  515549.91,   65700.18,\n",
       "        397555.25,  698439.45,  475569.68, 9309465.18, 6289769.97,\n",
       "        628730.6 , 1874357.21, 1105097.7 , 2743144.98,  958187.97,\n",
       "       2103067.44, 8726794.93,  248583.57,  152280.46,  446813.19,\n",
       "        872516.92,  502916.66,  925275.1 , 3012963.78,  129189.59,\n",
       "        443520.74,  424404.88, 2041684.23, 7748539.53,  954634.42,\n",
       "        195951.41, 3694684.36,  399275.78,   95428.44, 1126946.54,\n",
       "        483412.31,  670697.14, 2305378.48,  482362.1 , 1159717.39,\n",
       "       1804634.49,  147327.42, 1632779.27,  293332.68,  205842.34,\n",
       "       4505282.02, 7635444.21,  970796.92, 1006295.28,  873446.9 ,\n",
       "        800399.08, 3957793.21,  523903.54,  829739.63, 5026842.56,\n",
       "       2741533.77,  230513.03, 2633786.52,  759155.87, 4168293.61,\n",
       "        723900.02, 1087088.45, 2268202.82,  724175.57, 2250457.85,\n",
       "       3050674.48, 6719831.38,  107045.28])"
      ]
     },
     "execution_count": 441,
     "metadata": {},
     "output_type": "execute_result"
    }
   ],
   "source": [
    "#predicted data\n",
    "rfr.predict(xtest)"
   ]
  },
  {
   "cell_type": "code",
   "execution_count": 442,
   "metadata": {},
   "outputs": [
    {
     "data": {
      "text/plain": [
       "0.9955519592802877"
      ]
     },
     "execution_count": 442,
     "metadata": {},
     "output_type": "execute_result"
    }
   ],
   "source": [
    "#accuracy of the model\n",
    "rfr.score(xtest,ytest)"
   ]
  },
  {
   "cell_type": "code",
   "execution_count": null,
   "metadata": {},
   "outputs": [],
   "source": []
  },
  {
   "cell_type": "code",
   "execution_count": 402,
   "metadata": {},
   "outputs": [],
   "source": [
    "#predicting with new data"
   ]
  },
  {
   "cell_type": "code",
   "execution_count": 443,
   "metadata": {},
   "outputs": [],
   "source": [
    "def predicted_function(population, per_capi_income, state, county):\n",
    "    \n",
    "    state_ind = np.where(X.columns==state)[0][0]\n",
    "    county_ind = np.where(X.columns==county)[0][0]\n",
    "\n",
    "    \n",
    "    x = np.zeros(len(X.columns))\n",
    "    x[0]= population\n",
    "    x[1]= per_capi_income\n",
    "        \n",
    "    if (state_ind>=0):\n",
    "        x[state_ind] = 1\n",
    "        \n",
    "    if (county_ind>=0):\n",
    "        x[county_ind] = 1\n",
    "        \n",
    "    return rfr.predict([x])[0]\n",
    "    \n",
    "\n"
   ]
  },
  {
   "cell_type": "code",
   "execution_count": 444,
   "metadata": {},
   "outputs": [
    {
     "data": {
      "text/plain": [
       "1752721.03"
      ]
     },
     "execution_count": 444,
     "metadata": {},
     "output_type": "execute_result"
    }
   ],
   "source": [
    "predicted_function(54135, 32602, 'AL', 'Autauga')"
   ]
  },
  {
   "cell_type": "code",
   "execution_count": 445,
   "metadata": {},
   "outputs": [
    {
     "data": {
      "text/plain": [
       "731468.06"
      ]
     },
     "execution_count": 445,
     "metadata": {},
     "output_type": "execute_result"
    }
   ],
   "source": [
    "predicted_function(27657, 26461,'AL', 'Barbour')"
   ]
  },
  {
   "cell_type": "code",
   "execution_count": null,
   "metadata": {},
   "outputs": [],
   "source": []
  }
 ],
 "metadata": {
  "kernelspec": {
   "display_name": "Python 3",
   "language": "python",
   "name": "python3"
  },
  "language_info": {
   "codemirror_mode": {
    "name": "ipython",
    "version": 3
   },
   "file_extension": ".py",
   "mimetype": "text/x-python",
   "name": "python",
   "nbconvert_exporter": "python",
   "pygments_lexer": "ipython3",
   "version": "3.7.4"
  }
 },
 "nbformat": 4,
 "nbformat_minor": 2
}
